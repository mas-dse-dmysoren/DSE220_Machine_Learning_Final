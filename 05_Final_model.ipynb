{
 "cells": [
  {
   "cell_type": "markdown",
   "metadata": {
    "collapsed": false
   },
   "source": [
    "# Summary\n",
    "- We used transaction tables for both drug and grocery stores on salty snacks, coffee, and sugar substitude\n",
    "- We used the product and IRI Week Translation Table\n",
    "- We aggregate all the three tables above and created new features for season and month from week\n",
    "- We aggregate the final table at year, season, month level and created the following new features and Targets:\n",
    "   - Feature: # of Promotions\n",
    "   - Feature: Display Size Sum \n",
    "   - Feature: Ad importance\n",
    "   - Target: The most popular item within each product category\n",
    "- We created the following models (can be used for yearly, seasonal, and monthly data):\n",
    "   - Classifying the most popular item eithin each category\n",
    "   - Forcasting the sale of each product\n",
    "   - Predicting the number of units sold for each category\n",
    "- We evaluated our models by holding out 2011 dataset as our test set.\n",
    "- We used stacking to improve the performance of our models.\n",
    "- We did some initial work to underetsand if we can do prescriptive analysis on the given data set (as future work)"
   ]
  },
  {
   "cell_type": "markdown",
   "metadata": {},
   "source": [
    "# Importing required packages"
   ]
  },
  {
   "cell_type": "code",
   "execution_count": 31,
   "metadata": {
    "collapsed": false
   },
   "outputs": [
    {
     "name": "stdout",
     "output_type": "stream",
     "text": [
      "Populating the interactive namespace from numpy and matplotlib\n"
     ]
    },
    {
     "name": "stderr",
     "output_type": "stream",
     "text": [
      "WARNING: pylab import has clobbered these variables: ['datetime']\n",
      "`%matplotlib` prevents importing * from pylab and numpy\n"
     ]
    }
   ],
   "source": [
    "from sklearn.tree import DecisionTreeClassifier, DecisionTreeRegressor\n",
    "from sklearn.ensemble import RandomForestClassifier, RandomForestRegressor, AdaBoostClassifier, BaggingClassifier\n",
    "from sklearn.cross_validation import train_test_split\n",
    "from sklearn.preprocessing import scale\n",
    "from sklearn import datasets\n",
    "import pandas as pd\n",
    "from sklearn import preprocessing, cross_validation\n",
    "from pandas.tools.plotting import scatter_matrix\n",
    "from sklearn import grid_search\n",
    "from sklearn import linear_model\n",
    "from sklearn.neighbors import KNeighborsClassifier\n",
    "from sklearn.tree import DecisionTreeRegressor, ExtraTreeRegressor, DecisionTreeClassifier, ExtraTreeClassifier\n",
    "from itertools import combinations\n",
    "from sklearn import decomposition\n",
    "from sklearn.metrics import mean_squared_error\n",
    "from collections import Counter\n",
    "from datetime import date, datetime\n",
    "\n",
    "%pylab inline\n",
    "pd.set_option('display.max_columns', 500)"
   ]
  },
  {
   "cell_type": "markdown",
   "metadata": {},
   "source": [
    "# Data Collection\n",
    "we used local data aggregation for this final model as we didn't have time to migrate the table to the postgreq server on AWS. However for all previous models we did most of the data cleaning and merge/join operations on the database on AWS and imported the 'prepared' tables directly to python. "
   ]
  },
  {
   "cell_type": "code",
   "execution_count": 32,
   "metadata": {
    "collapsed": true
   },
   "outputs": [],
   "source": [
    "# as the transaction tables are too big, we sample some of them\n",
    "dr_sampling_rate=0.3\n",
    "gr_sampling_rate=0.05"
   ]
  },
  {
   "cell_type": "code",
   "execution_count": 4,
   "metadata": {
    "collapsed": false
   },
   "outputs": [],
   "source": [
    "# getting the drug store salty snack products for 2008-2011 and aggregate them\n",
    "saltsnck_dr_8=pd.read_fwf('saltsnck_drug_1479_1530').sample(frac=dr_sampling_rate)\n",
    "saltsnck_dr_9=pd.read_fwf('saltsnck_drug_1531_1582').sample(frac=dr_sampling_rate)\n",
    "saltsnck_dr_10=pd.read_fwf('saltsnck_drug_1583_1634').sample(frac=dr_sampling_rate)\n",
    "saltsnck_dr_11=pd.read_fwf('saltsnck_drug_1635_1686').sample(frac=dr_sampling_rate)\n",
    "saltsnck_dr_8_11=pd.concat([saltsnck_dr_8,saltsnck_dr_9,saltsnck_dr_10,saltsnck_dr_11]).reset_index(drop=True)\n",
    "saltsnck_dr_8_11['OUTLET']='dr'"
   ]
  },
  {
   "cell_type": "code",
   "execution_count": 2,
   "metadata": {
    "collapsed": true
   },
   "outputs": [],
   "source": [
    "# getting the drug store sugar substitude products for 2008-2011 and aggregate them\n",
    "sugarsub_dr_8=pd.read_fwf('sugarsub_drug_1479_1530')\n",
    "sugarsub_dr_9=pd.read_fwf('sugarsub_drug_1531_1582')\n",
    "sugarsub_dr_10=pd.read_fwf('sugarsub_drug_1583_1634')\n",
    "sugarsub_dr_11=pd.read_fwf('sugarsub_drug_1635_1686')\n",
    "sugarsub_dr_8_11=pd.concat([sugarsub_dr_8,sugarsub_dr_9,sugarsub_dr_10,sugarsub_dr_11]).reset_index(drop=True)\n",
    "sugarsub_dr_8_11['OUTLET']='dr'"
   ]
  },
  {
   "cell_type": "code",
   "execution_count": 122,
   "metadata": {
    "collapsed": true
   },
   "outputs": [],
   "source": [
    "# getting the drug store coffee products for 2008-2011 and aggregate them\n",
    "coffee_dr_8=pd.read_fwf('coffee_drug_1479_1530')\n",
    "coffee_dr_9=pd.read_fwf('coffee_drug_1531_1582')\n",
    "coffee_dr_10=pd.read_fwf('coffee_drug_1583_1634')\n",
    "coffee_dr_11=pd.read_fwf('coffee_drug_1635_1686')\n",
    "coffee_dr_8_11=pd.concat([coffee_dr_8,coffee_dr_9,coffee_dr_10,coffee_dr_11]).reset_index(drop=True)\n",
    "coffee_dr_8_11['OUTLET']='dr'"
   ]
  },
  {
   "cell_type": "code",
   "execution_count": 5,
   "metadata": {
    "collapsed": false
   },
   "outputs": [],
   "source": [
    "# getting the grocery store salty snack products for 2008-2011 and aggregate them\n",
    "saltsnck_gr_8=pd.read_fwf('saltsnck_groc_1479_1530').sample(frac=gr_sampling_rate)\n",
    "saltsnck_gr_9=pd.read_fwf('saltsnck_groc_1531_1582').sample(frac=gr_sampling_rate)\n",
    "saltsnck_gr_10=pd.read_fwf('saltsnck_groc_1583_1634').sample(frac=gr_sampling_rate)\n",
    "saltsnck_gr_11=pd.read_fwf('saltsnck_groc_1635_1686').sample(frac=gr_sampling_rate)\n",
    "saltsnck_gr_8_11=pd.concat([saltsnck_gr_8,saltsnck_gr_9,saltsnck_gr_10,saltsnck_gr_11]).reset_index(drop=True)\n",
    "saltsnck_gr_8_11['OUTLET']='gr'"
   ]
  },
  {
   "cell_type": "code",
   "execution_count": 123,
   "metadata": {
    "collapsed": true
   },
   "outputs": [],
   "source": [
    "# getting the product table for salty snack, sugar substitude, and coffee\n",
    "saltsnck_prod = pd.read_excel('prod11_saltsnck.xlsx')[['SY','GE','VEND','ITEM','L1','L2']]\n",
    "sugarsub_prod = pd.read_excel('prod11_sugarsub.xlsx')[['SY','GE','VEND','ITEM','L1','L2']]\n",
    "coffee_prod = pd.read_excel('prod11_coffee.xlsx')[['SY','GE','VEND','ITEM','L1','L2']]"
   ]
  },
  {
   "cell_type": "code",
   "execution_count": 152,
   "metadata": {
    "collapsed": true
   },
   "outputs": [],
   "source": [
    "# creating a list of names of dataframes (to be used later in data_agg function)\n",
    "trans_list = [saltsnck_dr_8_11,sugarsub_dr_8_11, coffee_dr_8_11]\n",
    "prod_list = [saltsnck_prod,sugarsub_prod, coffee_prod]"
   ]
  },
  {
   "cell_type": "code",
   "execution_count": 153,
   "metadata": {
    "collapsed": false
   },
   "outputs": [],
   "source": [
    "# convert the IRI WEEK_Translation_2008_2011.xls to season, year, and month (some sort of early feature engineering)\n",
    "from datetime import date, datetime\n",
    "week_season_translation=pd.read_excel('IRI week translation_2008_2017.xls')\n",
    "week_season_translation = week_season_translation[\\\n",
    "    ['IRI Week', u'Calendar week starting on',u'Calendar week ending on']]\n",
    "# if the date falls between March 21 and June 20, it is spring. Regardless of the year. \n",
    "Y = 2000 # dummy leap year to allow input X-02-29 (leap day)\n",
    "seasons = [('winter', (date(Y,  1,  1),  date(Y,  3, 20))),\n",
    "           ('spring', (date(Y,  3, 21),  date(Y,  6, 20))),\n",
    "           ('summer', (date(Y,  6, 21),  date(Y,  9, 22))),\n",
    "           ('fall', (date(Y,  9, 23),  date(Y, 12, 20))),\n",
    "           ('winter', (date(Y, 12, 21),  date(Y, 12, 31)))]\n",
    "    \n",
    "def get_season(rawDate):\n",
    "    aDate = rawDate\n",
    "    if isinstance(aDate, datetime):\n",
    "        aDate = aDate.date()\n",
    "    aDate = aDate.replace(year=Y)\n",
    "    \n",
    "    return next(season for season, (start, end) in seasons\n",
    "                if start <= aDate <= end)\n",
    "\n",
    "week_season_translation['season'] = week_season_translation['Calendar week starting on']\n",
    "week_season_translation['season'] = week_season_translation['season'].apply(get_season)\n",
    "week_season_translation.rename(columns={'IRI Week':'WEEK'}, inplace=True)\n",
    "week_season_translation['YEAR']=week_season_translation['Calendar week starting on'].apply(lambda x:x.year)\n",
    "week_season_translation['MONTH']=week_season_translation['Calendar week starting on'].apply(lambda x:x.month)\n",
    "week_season_translation.drop(['Calendar week starting on','Calendar week ending on'], axis=1, inplace=True)"
   ]
  },
  {
   "cell_type": "code",
   "execution_count": 154,
   "metadata": {
    "collapsed": true
   },
   "outputs": [],
   "source": [
    "# function to aggregate the transaction, product, and year/season/month \n",
    "def data_agg(trans_list, prod_list,week_season_translation):\n",
    "    agg_trans=pd.concat(trans_list)\n",
    "    agg_prod=pd.concat(prod_list)\n",
    "    agg_df = pd.merge(agg_trans, agg_prod, on=['SY', 'GE','VEND','ITEM']).drop(['SY', 'GE','VEND','ITEM'],axis=1)\n",
    "    final_df = pd.merge(agg_df,week_season_translation,on='WEEK')\n",
    "    return final_df"
   ]
  },
  {
   "cell_type": "code",
   "execution_count": 155,
   "metadata": {
    "collapsed": false
   },
   "outputs": [
    {
     "data": {
      "text/html": [
       "<div>\n",
       "<table border=\"1\" class=\"dataframe\">\n",
       "  <thead>\n",
       "    <tr style=\"text-align: right;\">\n",
       "      <th></th>\n",
       "      <th>IRI_KEY</th>\n",
       "      <th>WEEK</th>\n",
       "      <th>UNITS</th>\n",
       "      <th>DOLLARS</th>\n",
       "      <th>F</th>\n",
       "      <th>D</th>\n",
       "      <th>PR</th>\n",
       "      <th>OUTLET</th>\n",
       "      <th>L1</th>\n",
       "      <th>L2</th>\n",
       "      <th>season</th>\n",
       "      <th>YEAR</th>\n",
       "      <th>MONTH</th>\n",
       "    </tr>\n",
       "  </thead>\n",
       "  <tbody>\n",
       "    <tr>\n",
       "      <th>0</th>\n",
       "      <td>8002426</td>\n",
       "      <td>1530</td>\n",
       "      <td>1</td>\n",
       "      <td>1.29</td>\n",
       "      <td>NONE</td>\n",
       "      <td>0</td>\n",
       "      <td>0</td>\n",
       "      <td>dr</td>\n",
       "      <td>CATEGORY - SALTY SNACKS</td>\n",
       "      <td>POTATO CHIPS</td>\n",
       "      <td>winter</td>\n",
       "      <td>2008</td>\n",
       "      <td>12</td>\n",
       "    </tr>\n",
       "    <tr>\n",
       "      <th>1</th>\n",
       "      <td>8016830</td>\n",
       "      <td>1530</td>\n",
       "      <td>1</td>\n",
       "      <td>1.29</td>\n",
       "      <td>NONE</td>\n",
       "      <td>1</td>\n",
       "      <td>1</td>\n",
       "      <td>dr</td>\n",
       "      <td>CATEGORY - SALTY SNACKS</td>\n",
       "      <td>POTATO CHIPS</td>\n",
       "      <td>winter</td>\n",
       "      <td>2008</td>\n",
       "      <td>12</td>\n",
       "    </tr>\n",
       "    <tr>\n",
       "      <th>2</th>\n",
       "      <td>931511</td>\n",
       "      <td>1530</td>\n",
       "      <td>3</td>\n",
       "      <td>3.87</td>\n",
       "      <td>NONE</td>\n",
       "      <td>2</td>\n",
       "      <td>0</td>\n",
       "      <td>dr</td>\n",
       "      <td>CATEGORY - SALTY SNACKS</td>\n",
       "      <td>POTATO CHIPS</td>\n",
       "      <td>winter</td>\n",
       "      <td>2008</td>\n",
       "      <td>12</td>\n",
       "    </tr>\n",
       "    <tr>\n",
       "      <th>3</th>\n",
       "      <td>8009679</td>\n",
       "      <td>1530</td>\n",
       "      <td>2</td>\n",
       "      <td>2.58</td>\n",
       "      <td>NONE</td>\n",
       "      <td>2</td>\n",
       "      <td>0</td>\n",
       "      <td>dr</td>\n",
       "      <td>CATEGORY - SALTY SNACKS</td>\n",
       "      <td>POTATO CHIPS</td>\n",
       "      <td>winter</td>\n",
       "      <td>2008</td>\n",
       "      <td>12</td>\n",
       "    </tr>\n",
       "    <tr>\n",
       "      <th>4</th>\n",
       "      <td>652759</td>\n",
       "      <td>1530</td>\n",
       "      <td>1</td>\n",
       "      <td>1.29</td>\n",
       "      <td>NONE</td>\n",
       "      <td>0</td>\n",
       "      <td>0</td>\n",
       "      <td>dr</td>\n",
       "      <td>CATEGORY - SALTY SNACKS</td>\n",
       "      <td>POTATO CHIPS</td>\n",
       "      <td>winter</td>\n",
       "      <td>2008</td>\n",
       "      <td>12</td>\n",
       "    </tr>\n",
       "  </tbody>\n",
       "</table>\n",
       "</div>"
      ],
      "text/plain": [
       "   IRI_KEY  WEEK  UNITS  DOLLARS     F  D  PR OUTLET  \\\n",
       "0  8002426  1530      1     1.29  NONE  0   0     dr   \n",
       "1  8016830  1530      1     1.29  NONE  1   1     dr   \n",
       "2   931511  1530      3     3.87  NONE  2   0     dr   \n",
       "3  8009679  1530      2     2.58  NONE  2   0     dr   \n",
       "4   652759  1530      1     1.29  NONE  0   0     dr   \n",
       "\n",
       "                                  L1            L2  season  YEAR  MONTH  \n",
       "0  CATEGORY - SALTY SNACKS            POTATO CHIPS  winter  2008     12  \n",
       "1  CATEGORY - SALTY SNACKS            POTATO CHIPS  winter  2008     12  \n",
       "2  CATEGORY - SALTY SNACKS            POTATO CHIPS  winter  2008     12  \n",
       "3  CATEGORY - SALTY SNACKS            POTATO CHIPS  winter  2008     12  \n",
       "4  CATEGORY - SALTY SNACKS            POTATO CHIPS  winter  2008     12  "
      ]
     },
     "execution_count": 155,
     "metadata": {},
     "output_type": "execute_result"
    }
   ],
   "source": [
    "data_df=data_agg(trans_list, prod_list,week_season_translation)\n",
    "data_df.head()"
   ]
  },
  {
   "cell_type": "markdown",
   "metadata": {},
   "source": [
    "# Data Cleaning"
   ]
  },
  {
   "cell_type": "markdown",
   "metadata": {},
   "source": [
    "## Handling NaNs"
   ]
  },
  {
   "cell_type": "code",
   "execution_count": 156,
   "metadata": {
    "collapsed": false
   },
   "outputs": [
    {
     "data": {
      "text/plain": [
       "IRI_KEY    0\n",
       "WEEK       0\n",
       "UNITS      0\n",
       "DOLLARS    0\n",
       "F          0\n",
       "D          0\n",
       "PR         0\n",
       "OUTLET     0\n",
       "L1         0\n",
       "L2         0\n",
       "season     0\n",
       "YEAR       0\n",
       "MONTH      0\n",
       "dtype: int64"
      ]
     },
     "execution_count": 156,
     "metadata": {},
     "output_type": "execute_result"
    }
   ],
   "source": [
    "# looking at the number of NaNs for each column#\n",
    "data_df.isnull().sum()"
   ]
  },
  {
   "cell_type": "markdown",
   "metadata": {},
   "source": [
    "As we can see the data is clean and there are no NaNs and hence to cleaning is needed in this part.\n",
    "\n",
    "The function below does the following tasks:\n",
    "- Assigning a relative weight to each Feature (F) based on their importance and our intuition. For example we assigned higher weights to A+ (QR code and coupons) compared to C (small size texts), and this way we created a new feature for \"ad importance'\n",
    "- Detecting the non-numerical features and use sklearn labelizer to convert them to numerical \n",
    "- Filling in NaN values (not applicable to this data we are using as there are no NaNs) of non-numerical features with the most popular value (top()) and filling in NaN values in the numerical feature with the mean value."
   ]
  },
  {
   "cell_type": "code",
   "execution_count": 157,
   "metadata": {
    "collapsed": false
   },
   "outputs": [],
   "source": [
    "# function to detect the non-numerical featuresand labelize them and also fill in the NaN values\n",
    "def data_prep (data):\n",
    "    # explicit mapping of F feature to reflect the ad size/importance\n",
    "    data=data.copy()\n",
    "    data.ix[data.F=='NONE', 'F'] = 1\n",
    "    data.ix[data.F=='C', 'F'] = 2\n",
    "    data.ix[data.F=='B', 'F'] = 3\n",
    "    data.ix[data.F=='A', 'F'] = 4\n",
    "    data.ix[data.F=='A+', 'F'] = 5\n",
    "    # determining the non-numeric columns and transforming them into numeric using LabelEncoder() method\n",
    "    real_or_str=data.applymap(np.isreal).all(0)\n",
    "    non_num_feature=real_or_str[~real_or_str].keys()\n",
    "    print \"Non-numeric features are: \", non_num_feature\n",
    "    le = preprocessing.LabelEncoder()\n",
    "    for col in non_num_feature:\n",
    "        #fill the NaN in non-numeric columns with the most used element#\n",
    "        data.ix[:,col]=data.ix[:,col].fillna(data[col].describe().top)\n",
    "        #transform the non-numeric columns to numeric values using \n",
    "        #LabelEncoder method from SKLearn#\n",
    "        data.ix[:,col]=le.fit_transform(data.ix[:,col])\n",
    "    #Filling in NaN values of numeric features with the mean value of the feature\n",
    "    data=data.fillna(data.mean())\n",
    "    return data"
   ]
  },
  {
   "cell_type": "code",
   "execution_count": 158,
   "metadata": {
    "collapsed": false,
    "scrolled": false
   },
   "outputs": [
    {
     "name": "stdout",
     "output_type": "stream",
     "text": [
      "Non-numeric features are:  Index([u'OUTLET', u'L1', u'L2', u'season'], dtype='object')\n"
     ]
    },
    {
     "data": {
      "text/html": [
       "<div>\n",
       "<table border=\"1\" class=\"dataframe\">\n",
       "  <thead>\n",
       "    <tr style=\"text-align: right;\">\n",
       "      <th></th>\n",
       "      <th>IRI_KEY</th>\n",
       "      <th>WEEK</th>\n",
       "      <th>UNITS</th>\n",
       "      <th>DOLLARS</th>\n",
       "      <th>F</th>\n",
       "      <th>D</th>\n",
       "      <th>PR</th>\n",
       "      <th>OUTLET</th>\n",
       "      <th>L1</th>\n",
       "      <th>L2</th>\n",
       "      <th>season</th>\n",
       "      <th>YEAR</th>\n",
       "      <th>MONTH</th>\n",
       "    </tr>\n",
       "  </thead>\n",
       "  <tbody>\n",
       "    <tr>\n",
       "      <th>0</th>\n",
       "      <td>8002426</td>\n",
       "      <td>1530</td>\n",
       "      <td>1</td>\n",
       "      <td>1.29</td>\n",
       "      <td>1</td>\n",
       "      <td>0</td>\n",
       "      <td>0</td>\n",
       "      <td>0</td>\n",
       "      <td>1</td>\n",
       "      <td>10</td>\n",
       "      <td>3</td>\n",
       "      <td>2008</td>\n",
       "      <td>12</td>\n",
       "    </tr>\n",
       "    <tr>\n",
       "      <th>1</th>\n",
       "      <td>8016830</td>\n",
       "      <td>1530</td>\n",
       "      <td>1</td>\n",
       "      <td>1.29</td>\n",
       "      <td>1</td>\n",
       "      <td>1</td>\n",
       "      <td>1</td>\n",
       "      <td>0</td>\n",
       "      <td>1</td>\n",
       "      <td>10</td>\n",
       "      <td>3</td>\n",
       "      <td>2008</td>\n",
       "      <td>12</td>\n",
       "    </tr>\n",
       "    <tr>\n",
       "      <th>2</th>\n",
       "      <td>931511</td>\n",
       "      <td>1530</td>\n",
       "      <td>3</td>\n",
       "      <td>3.87</td>\n",
       "      <td>1</td>\n",
       "      <td>2</td>\n",
       "      <td>0</td>\n",
       "      <td>0</td>\n",
       "      <td>1</td>\n",
       "      <td>10</td>\n",
       "      <td>3</td>\n",
       "      <td>2008</td>\n",
       "      <td>12</td>\n",
       "    </tr>\n",
       "    <tr>\n",
       "      <th>3</th>\n",
       "      <td>8009679</td>\n",
       "      <td>1530</td>\n",
       "      <td>2</td>\n",
       "      <td>2.58</td>\n",
       "      <td>1</td>\n",
       "      <td>2</td>\n",
       "      <td>0</td>\n",
       "      <td>0</td>\n",
       "      <td>1</td>\n",
       "      <td>10</td>\n",
       "      <td>3</td>\n",
       "      <td>2008</td>\n",
       "      <td>12</td>\n",
       "    </tr>\n",
       "    <tr>\n",
       "      <th>4</th>\n",
       "      <td>652759</td>\n",
       "      <td>1530</td>\n",
       "      <td>1</td>\n",
       "      <td>1.29</td>\n",
       "      <td>1</td>\n",
       "      <td>0</td>\n",
       "      <td>0</td>\n",
       "      <td>0</td>\n",
       "      <td>1</td>\n",
       "      <td>10</td>\n",
       "      <td>3</td>\n",
       "      <td>2008</td>\n",
       "      <td>12</td>\n",
       "    </tr>\n",
       "  </tbody>\n",
       "</table>\n",
       "</div>"
      ],
      "text/plain": [
       "   IRI_KEY  WEEK  UNITS  DOLLARS  F  D  PR  OUTLET  L1  L2  season  YEAR  \\\n",
       "0  8002426  1530      1     1.29  1  0   0       0   1  10       3  2008   \n",
       "1  8016830  1530      1     1.29  1  1   1       0   1  10       3  2008   \n",
       "2   931511  1530      3     3.87  1  2   0       0   1  10       3  2008   \n",
       "3  8009679  1530      2     2.58  1  2   0       0   1  10       3  2008   \n",
       "4   652759  1530      1     1.29  1  0   0       0   1  10       3  2008   \n",
       "\n",
       "   MONTH  \n",
       "0     12  \n",
       "1     12  \n",
       "2     12  \n",
       "3     12  \n",
       "4     12  "
      ]
     },
     "execution_count": 158,
     "metadata": {},
     "output_type": "execute_result"
    }
   ],
   "source": [
    "data_preped=data_prep(data_df)\n",
    "data_preped.head()"
   ]
  },
  {
   "cell_type": "markdown",
   "metadata": {},
   "source": [
    "The following function does the followings:\n",
    "\n",
    "**Data Aggregation at store level (IRI_Key) and Target Engineering**\n",
    "\n",
    "- aggregate the data based on the method given (yearly, seasonal, monthly) \n",
    "- Aggregate the data based on the outlet given (drug store, grocery store, or all)\n",
    "- Summing up the Dollar/Units per store which will be used as our target\n",
    "- Create a new target from L2 as the most popular item within each category, which will be used as one of our targets (please note that I didn't change the name and it is still L2, but it represent the most popular item within each product category).\n",
    "\n",
    "**Feature Engineering**\n",
    "\n",
    "- Create a new feature from F as the sum of the F values which signifies the sum of ad importance used on each product category at each given store (no column name change)\n",
    "- Create a new feature from D as the sum of the D values which signifies the sum of display size used on each product category at each given store (no column name change)\n",
    "- Create a new feature from PR as the sum of the PR values which signifies the number of promotions used on each product category at each given store (no column name change)"
   ]
  },
  {
   "cell_type": "code",
   "execution_count": 159,
   "metadata": {
    "collapsed": false
   },
   "outputs": [],
   "source": [
    "def data_group(data_preped,outlet,method):\n",
    "    # aggregate data yearly and create new features and targets\n",
    "    if method=='yearly':\n",
    "        data_preped_grp=data_preped.groupby(['IRI_KEY','YEAR','L1']).agg({'L2': lambda x:Counter(x).most_common()[0][0],\\\n",
    "                                             'OUTLET': lambda x:Counter(x).most_common()[0][0],\\\n",
    "                                            'F':'sum', 'D':'sum', 'PR':'sum', 'UNITS':'sum','DOLLARS':'sum'})\\\n",
    "                                            .reset_index(level=1).reset_index(level=1).reset_index(drop=True)\n",
    "    # aggregate data monthly and create new features and targets\n",
    "    elif method=='monthly':\n",
    "        data_preped_grp=data_preped.groupby(['IRI_KEY','YEAR','MONTH','L1']).agg({'L2': lambda x:Counter(x).most_common()[0][0],\\\n",
    "                                             'OUTLET': lambda x:Counter(x).most_common()[0][0],\\\n",
    "                                            'F':'sum', 'D':'sum', 'PR':'sum', 'UNITS':'sum','DOLLARS':'sum'})\\\n",
    "                                            .reset_index(level=1).reset_index(level=1).reset_index(level=1).reset_index(drop=True)\n",
    "    # aggregate data seasonally and create new features and targets\n",
    "    elif method=='seasonal':\n",
    "        data_preped_grp=data_preped.groupby(['IRI_KEY','YEAR','season','L1']).agg({'L2': lambda x:Counter(x).most_common()[0][0],\\\n",
    "                                             'OUTLET': lambda x:Counter(x).most_common()[0][0],\\\n",
    "                                            'F':'sum', 'D':'sum', 'PR':'sum', 'UNITS':'sum','DOLLARS':'sum'})\\\n",
    "                                            .reset_index(level=1).reset_index(level=1).reset_index(level=1).reset_index(drop=True)\n",
    "    # aggregate data based on the given outlet\n",
    "    if outlet=='dr':                                        \n",
    "        data_preped_grp=data_preped_grp.ix[data_preped_grp['OUTLET']==0]\n",
    "    elif outlet=='gr':                                        \n",
    "        data_preped_grp=data_preped_grp.ix[data_preped_grp['OUTLET']==1]\n",
    "    elif outlet=='all':                                        \n",
    "        data_preped_grp=data_preped_grp\n",
    "    return data_preped_grp"
   ]
  },
  {
   "cell_type": "code",
   "execution_count": 184,
   "metadata": {
    "collapsed": false
   },
   "outputs": [
    {
     "data": {
      "text/html": [
       "<div>\n",
       "<table border=\"1\" class=\"dataframe\">\n",
       "  <thead>\n",
       "    <tr style=\"text-align: right;\">\n",
       "      <th></th>\n",
       "      <th>L1</th>\n",
       "      <th>YEAR</th>\n",
       "      <th>PR</th>\n",
       "      <th>D</th>\n",
       "      <th>F</th>\n",
       "      <th>DOLLARS</th>\n",
       "      <th>L2</th>\n",
       "      <th>OUTLET</th>\n",
       "      <th>UNITS</th>\n",
       "    </tr>\n",
       "  </thead>\n",
       "  <tbody>\n",
       "    <tr>\n",
       "      <th>0</th>\n",
       "      <td>0</td>\n",
       "      <td>2008</td>\n",
       "      <td>209</td>\n",
       "      <td>11</td>\n",
       "      <td>931</td>\n",
       "      <td>7096.06</td>\n",
       "      <td>4</td>\n",
       "      <td>0</td>\n",
       "      <td>1728</td>\n",
       "    </tr>\n",
       "    <tr>\n",
       "      <th>1</th>\n",
       "      <td>1</td>\n",
       "      <td>2008</td>\n",
       "      <td>262</td>\n",
       "      <td>95</td>\n",
       "      <td>1448</td>\n",
       "      <td>6263.88</td>\n",
       "      <td>10</td>\n",
       "      <td>0</td>\n",
       "      <td>4362</td>\n",
       "    </tr>\n",
       "    <tr>\n",
       "      <th>2</th>\n",
       "      <td>2</td>\n",
       "      <td>2008</td>\n",
       "      <td>39</td>\n",
       "      <td>0</td>\n",
       "      <td>208</td>\n",
       "      <td>1120.32</td>\n",
       "      <td>14</td>\n",
       "      <td>0</td>\n",
       "      <td>430</td>\n",
       "    </tr>\n",
       "    <tr>\n",
       "      <th>3</th>\n",
       "      <td>0</td>\n",
       "      <td>2009</td>\n",
       "      <td>290</td>\n",
       "      <td>44</td>\n",
       "      <td>1150</td>\n",
       "      <td>7665.73</td>\n",
       "      <td>4</td>\n",
       "      <td>0</td>\n",
       "      <td>1632</td>\n",
       "    </tr>\n",
       "    <tr>\n",
       "      <th>4</th>\n",
       "      <td>1</td>\n",
       "      <td>2009</td>\n",
       "      <td>324</td>\n",
       "      <td>258</td>\n",
       "      <td>1686</td>\n",
       "      <td>7898.74</td>\n",
       "      <td>10</td>\n",
       "      <td>0</td>\n",
       "      <td>5051</td>\n",
       "    </tr>\n",
       "  </tbody>\n",
       "</table>\n",
       "</div>"
      ],
      "text/plain": [
       "   L1  YEAR   PR    D     F  DOLLARS  L2  OUTLET  UNITS\n",
       "0   0  2008  209   11   931  7096.06   4       0   1728\n",
       "1   1  2008  262   95  1448  6263.88  10       0   4362\n",
       "2   2  2008   39    0   208  1120.32  14       0    430\n",
       "3   0  2009  290   44  1150  7665.73   4       0   1632\n",
       "4   1  2009  324  258  1686  7898.74  10       0   5051"
      ]
     },
     "execution_count": 184,
     "metadata": {},
     "output_type": "execute_result"
    }
   ],
   "source": [
    "# get the yearly data for drug stores only (This can be changed to any other value and the output will be the input to our model)\n",
    "data_preped_grp=data_group(data_preped,'dr','yearly')\n",
    "data_preped_grp.head()"
   ]
  },
  {
   "cell_type": "code",
   "execution_count": 3,
   "metadata": {
    "collapsed": true
   },
   "outputs": [],
   "source": [
    "data_preped_grp=pd.read_csv('data.csv')"
   ]
  },
  {
   "cell_type": "code",
   "execution_count": 185,
   "metadata": {
    "collapsed": false,
    "scrolled": true
   },
   "outputs": [
    {
     "data": {
      "text/html": [
       "<div>\n",
       "<table border=\"1\" class=\"dataframe\">\n",
       "  <thead>\n",
       "    <tr style=\"text-align: right;\">\n",
       "      <th></th>\n",
       "      <th>L1</th>\n",
       "      <th>YEAR</th>\n",
       "      <th>PR</th>\n",
       "      <th>D</th>\n",
       "      <th>F</th>\n",
       "      <th>DOLLARS</th>\n",
       "      <th>L2</th>\n",
       "      <th>OUTLET</th>\n",
       "      <th>UNITS</th>\n",
       "    </tr>\n",
       "  </thead>\n",
       "  <tbody>\n",
       "    <tr>\n",
       "      <th>count</th>\n",
       "      <td>7101.000000</td>\n",
       "      <td>7101.000000</td>\n",
       "      <td>7101.000000</td>\n",
       "      <td>7101.000000</td>\n",
       "      <td>7101.000000</td>\n",
       "      <td>7101.000000</td>\n",
       "      <td>7101.000000</td>\n",
       "      <td>7101.0</td>\n",
       "      <td>7101.000000</td>\n",
       "    </tr>\n",
       "    <tr>\n",
       "      <th>mean</th>\n",
       "      <td>0.999859</td>\n",
       "      <td>2008.992395</td>\n",
       "      <td>139.172511</td>\n",
       "      <td>113.093085</td>\n",
       "      <td>612.329109</td>\n",
       "      <td>4215.106117</td>\n",
       "      <td>9.335305</td>\n",
       "      <td>0.0</td>\n",
       "      <td>1614.841290</td>\n",
       "    </tr>\n",
       "    <tr>\n",
       "      <th>std</th>\n",
       "      <td>0.810060</td>\n",
       "      <td>1.388260</td>\n",
       "      <td>151.305288</td>\n",
       "      <td>205.950451</td>\n",
       "      <td>657.214081</td>\n",
       "      <td>5986.237935</td>\n",
       "      <td>4.123048</td>\n",
       "      <td>0.0</td>\n",
       "      <td>2678.508739</td>\n",
       "    </tr>\n",
       "    <tr>\n",
       "      <th>min</th>\n",
       "      <td>0.000000</td>\n",
       "      <td>2007.000000</td>\n",
       "      <td>0.000000</td>\n",
       "      <td>0.000000</td>\n",
       "      <td>1.000000</td>\n",
       "      <td>0.750000</td>\n",
       "      <td>0.000000</td>\n",
       "      <td>0.0</td>\n",
       "      <td>1.000000</td>\n",
       "    </tr>\n",
       "    <tr>\n",
       "      <th>25%</th>\n",
       "      <td>0.000000</td>\n",
       "      <td>2008.000000</td>\n",
       "      <td>9.000000</td>\n",
       "      <td>0.000000</td>\n",
       "      <td>47.000000</td>\n",
       "      <td>231.230000</td>\n",
       "      <td>4.000000</td>\n",
       "      <td>0.0</td>\n",
       "      <td>78.000000</td>\n",
       "    </tr>\n",
       "    <tr>\n",
       "      <th>50%</th>\n",
       "      <td>1.000000</td>\n",
       "      <td>2009.000000</td>\n",
       "      <td>74.000000</td>\n",
       "      <td>11.000000</td>\n",
       "      <td>309.000000</td>\n",
       "      <td>1751.530000</td>\n",
       "      <td>10.000000</td>\n",
       "      <td>0.0</td>\n",
       "      <td>532.000000</td>\n",
       "    </tr>\n",
       "    <tr>\n",
       "      <th>75%</th>\n",
       "      <td>2.000000</td>\n",
       "      <td>2010.000000</td>\n",
       "      <td>244.000000</td>\n",
       "      <td>118.000000</td>\n",
       "      <td>1081.000000</td>\n",
       "      <td>6289.740000</td>\n",
       "      <td>14.000000</td>\n",
       "      <td>0.0</td>\n",
       "      <td>2077.000000</td>\n",
       "    </tr>\n",
       "    <tr>\n",
       "      <th>max</th>\n",
       "      <td>2.000000</td>\n",
       "      <td>2011.000000</td>\n",
       "      <td>1023.000000</td>\n",
       "      <td>1527.000000</td>\n",
       "      <td>3815.000000</td>\n",
       "      <td>75962.770000</td>\n",
       "      <td>16.000000</td>\n",
       "      <td>0.0</td>\n",
       "      <td>30984.000000</td>\n",
       "    </tr>\n",
       "  </tbody>\n",
       "</table>\n",
       "</div>"
      ],
      "text/plain": [
       "                L1         YEAR           PR            D            F  \\\n",
       "count  7101.000000  7101.000000  7101.000000  7101.000000  7101.000000   \n",
       "mean      0.999859  2008.992395   139.172511   113.093085   612.329109   \n",
       "std       0.810060     1.388260   151.305288   205.950451   657.214081   \n",
       "min       0.000000  2007.000000     0.000000     0.000000     1.000000   \n",
       "25%       0.000000  2008.000000     9.000000     0.000000    47.000000   \n",
       "50%       1.000000  2009.000000    74.000000    11.000000   309.000000   \n",
       "75%       2.000000  2010.000000   244.000000   118.000000  1081.000000   \n",
       "max       2.000000  2011.000000  1023.000000  1527.000000  3815.000000   \n",
       "\n",
       "            DOLLARS           L2  OUTLET         UNITS  \n",
       "count   7101.000000  7101.000000  7101.0   7101.000000  \n",
       "mean    4215.106117     9.335305     0.0   1614.841290  \n",
       "std     5986.237935     4.123048     0.0   2678.508739  \n",
       "min        0.750000     0.000000     0.0      1.000000  \n",
       "25%      231.230000     4.000000     0.0     78.000000  \n",
       "50%     1751.530000    10.000000     0.0    532.000000  \n",
       "75%     6289.740000    14.000000     0.0   2077.000000  \n",
       "max    75962.770000    16.000000     0.0  30984.000000  "
      ]
     },
     "execution_count": 185,
     "metadata": {},
     "output_type": "execute_result"
    },
    {
     "data": {
      "image/png": "[encoded data removed]",
      "text/plain": [
       "<matplotlib.figure.Figure at 0x1b7921160>"
      ]
     },
     "metadata": {},
     "output_type": "display_data"
    }
   ],
   "source": [
    "# looking at the histogram and statistics of the features to make sure that most of the features have good variance and enough data#\n",
    "data_preped_grp.hist(figsize=(20,50), layout=(15,5))\n",
    "data_preped_grp.describe()"
   ]
  },
  {
   "cell_type": "markdown",
   "metadata": {},
   "source": [
    "# Outlier Detection and Removal\n",
    "\n",
    "**We assume that all features have Gaussian distribution and detect outliers based on the following rule:**\n",
    "\n",
    "Detect a column with extreme outlier if:\n",
    "\n",
    "$mean(col)-10*\\sigma  <value < mean(col)+10*\\sigma$"
   ]
  },
  {
   "cell_type": "code",
   "execution_count": 186,
   "metadata": {
    "collapsed": false
   },
   "outputs": [],
   "source": [
    "# function to detect the outliers withing each column and omit them\n",
    "def outlier_detector(data):\n",
    "    out_col=[]\n",
    "    data=data.copy()\n",
    "    for col in data.describe().columns:\n",
    "        maxx = data.describe()[col]['max']\n",
    "        minn = data.describe()[col]['min']\n",
    "        mean = data.describe()[col]['mean']\n",
    "        std =  data.describe()[col]['std']\n",
    "\n",
    "        # detecting outliers\n",
    "        if maxx>(mean+10*std):\n",
    "            out_col.append(col)\n",
    "            print \"outliers for column\", col, \"are\",np.unique(data[col].ix[data[col]>(mean+10*std)].values)\n",
    "            # omitting outliers\n",
    "            data=data[data[col]<(mean+10*std)]\n",
    "        elif minn<(mean-10*std):\n",
    "            out_col.append(col)\n",
    "            print \"outliers for column\", col, \"are\",np.unique(saltsnck_preped[col].ix[saltsnck_preped[col]>(mean-10*std)].values)\n",
    "            # omitting outliers\n",
    "            data=data[data[col]>(mean-10*std)]\n",
    "    print \"columns containing outliers are: \",out_col\n",
    "    return data"
   ]
  },
  {
   "cell_type": "code",
   "execution_count": 187,
   "metadata": {
    "collapsed": false
   },
   "outputs": [
    {
     "name": "stdout",
     "output_type": "stream",
     "text": [
      "outliers for column DOLLARS are [ 65323.39  70254.79  71730.87  75962.77]\n",
      "outliers for column UNITS are [29390 30984]\n",
      "columns containing outliers are:  ['DOLLARS', 'UNITS']\n"
     ]
    }
   ],
   "source": [
    "data_preped_grp=outlier_detector(data_preped_grp)"
   ]
  },
  {
   "cell_type": "markdown",
   "metadata": {},
   "source": [
    "# Natutral growth analysis"
   ]
  },
  {
   "cell_type": "markdown",
   "metadata": {},
   "source": [
    "In time series sale forcast we need to take into account the natural growth/decline of each store. So we compared the sales of each store year-over-year compared to 2008 and didn't see much change. So we assumed that there are no natural growth/decline."
   ]
  },
  {
   "cell_type": "code",
   "execution_count": 188,
   "metadata": {
    "collapsed": false
   },
   "outputs": [
    {
     "name": "stdout",
     "output_type": "stream",
     "text": [
      "growth factor for 2011: DOLLARS    1.070066\n",
      "dtype: float64\n",
      "growth factor for 2010: DOLLARS    1.030598\n",
      "dtype: float64\n",
      "growth factor for 2009:: DOLLARS    0.978278\n",
      "dtype: float64\n",
      "growth factor for 2008: 1\n"
     ]
    }
   ],
   "source": [
    "print \"growth factor for 2011:\", data_preped_grp.ix[data_preped_grp['YEAR']==2011][['DOLLARS']].sum()/(data_preped_grp.ix[data_preped_grp['YEAR']==2008][['DOLLARS']].sum())\n",
    "print \"growth factor for 2010:\", data_preped_grp.ix[data_preped_grp['YEAR']==2010][['DOLLARS']].sum()/(data_preped_grp.ix[data_preped_grp['YEAR']==2008][['DOLLARS']].sum())\n",
    "print \"growth factor for 2009::\", data_preped_grp.ix[data_preped_grp['YEAR']==2009][['DOLLARS']].sum()/(data_preped_grp.ix[data_preped_grp['YEAR']==2008][['DOLLARS']].sum())\n",
    "print \"growth factor for 2008:\", 1"
   ]
  },
  {
   "cell_type": "markdown",
   "metadata": {},
   "source": [
    "# Modeling \n",
    "\n",
    "### Classification and Regression Models\n",
    "Next we start building our models. For this example we build a yearly model. But as described in function `data_group(data_preped,outlet,method)` the `method` can be changed from yearly to seasonal or monthly to aggregate the data at finer time resolutio. We have 3 different targets:\n",
    "- L2: The most popular item within each category\n",
    "- UNITS: The total number of a specific product category item sold\n",
    "- DOLLARS: The total dollar value sold for a specific product category.\n",
    "\n",
    "### Evaluation Method:\n",
    "\n",
    "While we used 10 fold CV for evaluation our models 0,1,2, and 3, for evaluating the performance of our final model, we hold out the 2011 data and used it as a test set while training our model on the data for 2008-2010. Please note that if we use 10 fold CV, we get even higher scores (2%-3%) but we believe for time varying target, using the future data set as test set makes more sense. "
   ]
  },
  {
   "cell_type": "markdown",
   "metadata": {},
   "source": [
    "### Decision Tree on L2 (most popular item within a category ): Classification"
   ]
  },
  {
   "cell_type": "code",
   "execution_count": 189,
   "metadata": {
    "collapsed": false
   },
   "outputs": [
    {
     "name": "stdout",
     "output_type": "stream",
     "text": [
      "score on train set: 0.992330486317\n",
      "score on test set: 0.983063328424\n"
     ]
    }
   ],
   "source": [
    "# building train and test data set by holding out the 2011 data as test data\n",
    "X_train = data_preped_grp.ix[data_preped_grp['YEAR']!=2011][['PR','D','F','OUTLET','L1']]\n",
    "y_train = data_preped_grp.ix[data_preped_grp['YEAR']!=2011][['L2']]\n",
    "X_test = data_preped_grp.ix[data_preped_grp['YEAR']==2011][['PR','D','F','OUTLET','L1']]\n",
    "y_test = data_preped_grp.ix[data_preped_grp['YEAR']==2011][['L2']]\n",
    "# using a simple Decision Tree Classifier for classifying L2\n",
    "dtree = DecisionTreeClassifier()\n",
    "dtree.fit(X_train, y_train)\n",
    "print \"score on train set:\", dtree.score(X_train, y_train)\n",
    "print \"score on test set:\", dtree.score(X_test, y_test)"
   ]
  },
  {
   "cell_type": "markdown",
   "metadata": {},
   "source": [
    "### Random Forest Regressor for predicting the sale (DOLLARS) for any product category: Regression"
   ]
  },
  {
   "cell_type": "code",
   "execution_count": 4,
   "metadata": {
    "collapsed": false,
    "scrolled": true
   },
   "outputs": [
    {
     "name": "stdout",
     "output_type": "stream",
     "text": [
      "score on train set: 0.976219795736\n",
      "score on test set: 0.881157684855\n"
     ]
    }
   ],
   "source": [
    "X_train = data_preped_grp.ix[data_preped_grp['YEAR']!=2011][['PR','D','F','OUTLET','L1']]\n",
    "y_train = data_preped_grp.ix[data_preped_grp['YEAR']!=2011]['DOLLARS']\n",
    "X_test = data_preped_grp.ix[data_preped_grp['YEAR']==2011][['PR','D','F','OUTLET','L1']]\n",
    "y_test = data_preped_grp.ix[data_preped_grp['YEAR']==2011]['DOLLARS']\n",
    "tree = RandomForestRegressor(random_state=0)\n",
    "tree.fit(X_train, y_train)\n",
    "print \"score on train set:\", tree.score(X_train, y_train)\n",
    "print \"score on test set:\", tree.score(X_test, y_test)"
   ]
  },
  {
   "cell_type": "markdown",
   "metadata": {},
   "source": [
    "# Visualizing the Accuracy of the Model\n",
    "In this part we plot the predicted values of the sale (DOLLARS) by the model versus the actual values of sale. The closer the blue dots are to the red line in the below plot, the more accurate the model."
   ]
  },
  {
   "cell_type": "code",
   "execution_count": 53,
   "metadata": {
    "collapsed": false
   },
   "outputs": [
    {
     "data": {
      "text/plain": [
       "<matplotlib.legend.Legend at 0x10e536e10>"
      ]
     },
     "execution_count": 53,
     "metadata": {},
     "output_type": "execute_result"
    },
    {
     "data": {
      "image/png": "[encoded data removed]",
      "text/plain": [
       "<matplotlib.figure.Figure at 0x10cbb3310>"
      ]
     },
     "metadata": {},
     "output_type": "display_data"
    }
   ],
   "source": [
    "# plotting predicted vs actual DOLLARS\n",
    "plt.scatter(tree.predict(X_test.head(100000)),y_test.iloc[:100000], label='Our Model with Score=0.88')\n",
    "plt.plot(range(50000), range(50000), linewidth=5, color='r', label='Model with Score=1')\n",
    "plt.xlabel('predicted total sale in 2011')\n",
    "plt.ylabel('actual total sale in 2011')\n",
    "plt.grid()\n",
    "plt.title('Visualizng the Model Accuracy')\n",
    "plt.legend()"
   ]
  },
  {
   "cell_type": "markdown",
   "metadata": {},
   "source": [
    "### Random Forest Regressor for predicting the number of units sold (UNITS) for any product category: Regression"
   ]
  },
  {
   "cell_type": "code",
   "execution_count": 192,
   "metadata": {
    "collapsed": false
   },
   "outputs": [
    {
     "name": "stdout",
     "output_type": "stream",
     "text": [
      "score on train set: 0.974298175253\n",
      "score on test set: 0.861411745343\n"
     ]
    }
   ],
   "source": [
    "X_train = data_preped_grp.ix[data_preped_grp['YEAR']!=2011][['PR','D','F','OUTLET','L1']]\n",
    "y_train = data_preped_grp.ix[data_preped_grp['YEAR']!=2011]['UNITS']\n",
    "X_test = data_preped_grp.ix[data_preped_grp['YEAR']==2011][['PR','D','F','OUTLET','L1']]\n",
    "y_test = data_preped_grp.ix[data_preped_grp['YEAR']==2011]['UNITS']\n",
    "tree = RandomForestRegressor(random_state=0)\n",
    "tree.fit(X_train, y_train)\n",
    "print \"score on train set:\", tree.score(X_train, y_train)\n",
    "print \"score on test set:\", tree.score(X_test, y_test)"
   ]
  },
  {
   "cell_type": "markdown",
   "metadata": {},
   "source": [
    "### Using GridSearchCV for tuning the Random Forest Regressor parameters"
   ]
  },
  {
   "cell_type": "code",
   "execution_count": 234,
   "metadata": {
    "collapsed": false
   },
   "outputs": [
    {
     "name": "stdout",
     "output_type": "stream",
     "text": [
      "The best set of parameters are:  {'min_samples_split': 2, 'n_estimators': 40, 'max_depth': 6, 'min_samples_leaf': 1}\n",
      "The best score is:  0.870872358433\n"
     ]
    }
   ],
   "source": [
    "X_train = data_preped_grp.ix[data_preped_grp['YEAR']!=2011][['PR','D','F','OUTLET','L1']]\n",
    "y_train = data_preped_grp.ix[data_preped_grp['YEAR']!=2011]['DOLLARS']\n",
    "X_test = data_preped_grp.ix[data_preped_grp['YEAR']==2011][['PR','D','F','OUTLET','L1']]\n",
    "y_test = data_preped_grp.ix[data_preped_grp['YEAR']==2011]['DOLLARS']\n",
    "parameters = {'n_estimators':range(10,101,10),'max_depth':range(1,10,5),\\\n",
    "              'min_samples_split':range(2,10,5),'min_samples_leaf':range(1,10,5)}\n",
    "tree = RandomForestRegressor(warm_start=True)\n",
    "clf = grid_search.GridSearchCV(tree, parameters, cv=10)\n",
    "clf.fit(X_train, y_train)\n",
    "print \"The best set of parameters are: \", clf.best_params_\n",
    "print \"The best score is: \", clf.best_score_"
   ]
  },
  {
   "cell_type": "markdown",
   "metadata": {},
   "source": [
    "# More Complex Models :Stacking\n",
    "In this section we tried a 2-level stacking with 3 base classifiers/regressors and 1 meta classifier/regressor to see if it can improve the accuracy of our models. We tried all combinations of several classifiers/regressors and picked the one with the best score.\n",
    "\n",
    "We realized that stacking didn't help to increase the performance of our models whenever the accuracy of our model was already high (for example score of 0.88 for yearly model). However, for monthly model where the performance of our model was slightly lower (score of 0.7) it boosted the score of our model by 2%-5%."
   ]
  },
  {
   "cell_type": "code",
   "execution_count": 54,
   "metadata": {
    "collapsed": false
   },
   "outputs": [],
   "source": [
    "## writing a class with fit/predict/scoring method, to fit the sub-classifiers onto the data and fit\n",
    "# a meta classifier on top of the base classifier and evaluate the performance\n",
    "class stacked_classifier():\n",
    "    def __init__(self, base_classifiers=None, meta_classifier=None):\n",
    "        self.base_classifiers = base_classifiers\n",
    "        self.meta_classifier = meta_classifier\n",
    "\n",
    "\n",
    "    def fit(self, X, y):\n",
    "        for classifier in self.base_classifiers:\n",
    "            classifier.fit(X, y)\n",
    "        X_meta=self.predict_base(X)\n",
    "        self.meta_classifier.fit(X_meta, y)\n",
    "\n",
    "    def predict_base(self, X):\n",
    "        self.predictions = np.zeros(len(X))\n",
    "        for classifier in self.base_classifiers:\n",
    "            self.predictions=np.column_stack([self.predictions, classifier.predict(X)])\n",
    "        return self.predictions\n",
    "        \n",
    "    def scoring(self,X,y):\n",
    "        clf_score=[]\n",
    "        for classifier in self.base_classifiers:\n",
    "            clf_score.append(classifier.score(X, y))\n",
    "        clf_score.append(self.meta_classifier.score(self.predict_base(X),y))\n",
    "        return clf_score"
   ]
  },
  {
   "cell_type": "markdown",
   "metadata": {},
   "source": [
    "### Creating sub and meta classifiers/Regressors"
   ]
  },
  {
   "cell_type": "code",
   "execution_count": 203,
   "metadata": {
    "collapsed": false
   },
   "outputs": [],
   "source": [
    "#Creating sub and meta classifiers\n",
    "DTC = DecisionTreeClassifier(random_state=0)\n",
    "LR = linear_model.LogisticRegression()\n",
    "RC =  linear_model.RidgeClassifier(random_state=0)\n",
    "ETC = ExtraTreeClassifier(random_state=32)\n",
    "KNC = KNeighborsClassifier ()\n",
    "BC = BaggingClassifier()"
   ]
  },
  {
   "cell_type": "code",
   "execution_count": 225,
   "metadata": {
    "collapsed": false
   },
   "outputs": [],
   "source": [
    "#Creating sub and meta regressors\n",
    "DTR = DecisionTreeRegressor(random_state=0)\n",
    "RR =  linear_model.Ridge(random_state=0)\n",
    "BRR= linear_model.BayesianRidge()\n",
    "ETR = ExtraTreeRegressor(random_state=0)\n",
    "LR = linear_model.Lasso()\n",
    "RFR = RandomForestRegressor(random_state=0)"
   ]
  },
  {
   "cell_type": "markdown",
   "metadata": {},
   "source": [
    "### Importing the results of all possible combinations of base+meta classifier into a DataFrame"
   ]
  },
  {
   "cell_type": "code",
   "execution_count": 55,
   "metadata": {
    "collapsed": true
   },
   "outputs": [],
   "source": [
    "# Function to import the results of all possible combinations of base+meta classifier into a DataFrame\n",
    "def stack_scoring(clf_dict, score_df, n, X_train, X_test, y_train, y_test):\n",
    "    l=0\n",
    "    for clf in combinations(clf_dict,n):\n",
    "        stacked_clf=stacked_classifier(base_classifiers=clf[0:n-1], meta_classifier=clf[n-1])\n",
    "        stacked_clf.fit(X_train,y_train)\n",
    "        clf_scores=[clf_dict.get(clf[i]) for i in range(n)]+stacked_clf.scoring(X_test,y_test)\n",
    "        score_df.loc[l]= clf_scores\n",
    "        l+=1\n",
    "    return score_df"
   ]
  },
  {
   "cell_type": "markdown",
   "metadata": {},
   "source": [
    "## Stacking for Predicting L2"
   ]
  },
  {
   "cell_type": "code",
   "execution_count": 206,
   "metadata": {
    "collapsed": false,
    "scrolled": false
   },
   "outputs": [
    {
     "name": "stdout",
     "output_type": "stream",
     "text": [
      "Best stacked classifier with 2 sub-classifier is: \n",
      "Base1          Logistic Regression\n",
      "Base2                Decision Tree\n",
      "Base3                        Ridge\n",
      "Meta                     KNeighbor\n",
      "Base1 Score               0.877911\n",
      "Base2 Score               0.983063\n",
      "Base3 Score               0.947717\n",
      "Meta Score                0.984536\n",
      "Name: 1, dtype: object\n"
     ]
    },
    {
     "data": {
      "text/html": [
       "<div>\n",
       "<table border=\"1\" class=\"dataframe\">\n",
       "  <thead>\n",
       "    <tr style=\"text-align: right;\">\n",
       "      <th></th>\n",
       "      <th>Base1</th>\n",
       "      <th>Base2</th>\n",
       "      <th>Base3</th>\n",
       "      <th>Meta</th>\n",
       "      <th>Base1 Score</th>\n",
       "      <th>Base2 Score</th>\n",
       "      <th>Base3 Score</th>\n",
       "      <th>Meta Score</th>\n",
       "    </tr>\n",
       "  </thead>\n",
       "  <tbody>\n",
       "    <tr>\n",
       "      <th>0</th>\n",
       "      <td>Logistic Regression</td>\n",
       "      <td>Decision Tree</td>\n",
       "      <td>Ridge</td>\n",
       "      <td>Extra Tree</td>\n",
       "      <td>0.877911</td>\n",
       "      <td>0.983063</td>\n",
       "      <td>0.947717</td>\n",
       "      <td>0.983063</td>\n",
       "    </tr>\n",
       "    <tr>\n",
       "      <th>1</th>\n",
       "      <td>Logistic Regression</td>\n",
       "      <td>Decision Tree</td>\n",
       "      <td>Ridge</td>\n",
       "      <td>KNeighbor</td>\n",
       "      <td>0.877911</td>\n",
       "      <td>0.983063</td>\n",
       "      <td>0.947717</td>\n",
       "      <td>0.984536</td>\n",
       "    </tr>\n",
       "    <tr>\n",
       "      <th>2</th>\n",
       "      <td>Logistic Regression</td>\n",
       "      <td>Decision Tree</td>\n",
       "      <td>Ridge</td>\n",
       "      <td>Bagging</td>\n",
       "      <td>0.877911</td>\n",
       "      <td>0.983063</td>\n",
       "      <td>0.947717</td>\n",
       "      <td>0.980854</td>\n",
       "    </tr>\n",
       "    <tr>\n",
       "      <th>3</th>\n",
       "      <td>Logistic Regression</td>\n",
       "      <td>Decision Tree</td>\n",
       "      <td>Extra Tree</td>\n",
       "      <td>KNeighbor</td>\n",
       "      <td>0.877911</td>\n",
       "      <td>0.983063</td>\n",
       "      <td>0.983800</td>\n",
       "      <td>0.983063</td>\n",
       "    </tr>\n",
       "    <tr>\n",
       "      <th>4</th>\n",
       "      <td>Logistic Regression</td>\n",
       "      <td>Decision Tree</td>\n",
       "      <td>Extra Tree</td>\n",
       "      <td>Bagging</td>\n",
       "      <td>0.877911</td>\n",
       "      <td>0.983063</td>\n",
       "      <td>0.983800</td>\n",
       "      <td>0.981591</td>\n",
       "    </tr>\n",
       "    <tr>\n",
       "      <th>5</th>\n",
       "      <td>Logistic Regression</td>\n",
       "      <td>Decision Tree</td>\n",
       "      <td>KNeighbor</td>\n",
       "      <td>Bagging</td>\n",
       "      <td>0.877911</td>\n",
       "      <td>0.983063</td>\n",
       "      <td>0.913108</td>\n",
       "      <td>0.979381</td>\n",
       "    </tr>\n",
       "    <tr>\n",
       "      <th>6</th>\n",
       "      <td>Logistic Regression</td>\n",
       "      <td>Ridge</td>\n",
       "      <td>Extra Tree</td>\n",
       "      <td>KNeighbor</td>\n",
       "      <td>0.877911</td>\n",
       "      <td>0.947717</td>\n",
       "      <td>0.983800</td>\n",
       "      <td>0.984536</td>\n",
       "    </tr>\n",
       "    <tr>\n",
       "      <th>7</th>\n",
       "      <td>Logistic Regression</td>\n",
       "      <td>Ridge</td>\n",
       "      <td>Extra Tree</td>\n",
       "      <td>Bagging</td>\n",
       "      <td>0.877911</td>\n",
       "      <td>0.947717</td>\n",
       "      <td>0.983800</td>\n",
       "      <td>0.981591</td>\n",
       "    </tr>\n",
       "    <tr>\n",
       "      <th>8</th>\n",
       "      <td>Logistic Regression</td>\n",
       "      <td>Ridge</td>\n",
       "      <td>KNeighbor</td>\n",
       "      <td>Bagging</td>\n",
       "      <td>0.877911</td>\n",
       "      <td>0.947717</td>\n",
       "      <td>0.913108</td>\n",
       "      <td>0.982327</td>\n",
       "    </tr>\n",
       "    <tr>\n",
       "      <th>9</th>\n",
       "      <td>Logistic Regression</td>\n",
       "      <td>Extra Tree</td>\n",
       "      <td>KNeighbor</td>\n",
       "      <td>Bagging</td>\n",
       "      <td>0.877911</td>\n",
       "      <td>0.983800</td>\n",
       "      <td>0.913108</td>\n",
       "      <td>0.980854</td>\n",
       "    </tr>\n",
       "    <tr>\n",
       "      <th>10</th>\n",
       "      <td>Decision Tree</td>\n",
       "      <td>Ridge</td>\n",
       "      <td>Extra Tree</td>\n",
       "      <td>KNeighbor</td>\n",
       "      <td>0.983063</td>\n",
       "      <td>0.947717</td>\n",
       "      <td>0.983800</td>\n",
       "      <td>0.983800</td>\n",
       "    </tr>\n",
       "    <tr>\n",
       "      <th>11</th>\n",
       "      <td>Decision Tree</td>\n",
       "      <td>Ridge</td>\n",
       "      <td>Extra Tree</td>\n",
       "      <td>Bagging</td>\n",
       "      <td>0.983063</td>\n",
       "      <td>0.947717</td>\n",
       "      <td>0.983800</td>\n",
       "      <td>0.983800</td>\n",
       "    </tr>\n",
       "    <tr>\n",
       "      <th>12</th>\n",
       "      <td>Decision Tree</td>\n",
       "      <td>Ridge</td>\n",
       "      <td>KNeighbor</td>\n",
       "      <td>Bagging</td>\n",
       "      <td>0.983063</td>\n",
       "      <td>0.947717</td>\n",
       "      <td>0.913108</td>\n",
       "      <td>0.983063</td>\n",
       "    </tr>\n",
       "    <tr>\n",
       "      <th>13</th>\n",
       "      <td>Decision Tree</td>\n",
       "      <td>Extra Tree</td>\n",
       "      <td>KNeighbor</td>\n",
       "      <td>Bagging</td>\n",
       "      <td>0.983063</td>\n",
       "      <td>0.983800</td>\n",
       "      <td>0.913108</td>\n",
       "      <td>0.983063</td>\n",
       "    </tr>\n",
       "    <tr>\n",
       "      <th>14</th>\n",
       "      <td>Ridge</td>\n",
       "      <td>Extra Tree</td>\n",
       "      <td>KNeighbor</td>\n",
       "      <td>Bagging</td>\n",
       "      <td>0.947717</td>\n",
       "      <td>0.983800</td>\n",
       "      <td>0.913108</td>\n",
       "      <td>0.983800</td>\n",
       "    </tr>\n",
       "  </tbody>\n",
       "</table>\n",
       "</div>"
      ],
      "text/plain": [
       "                  Base1          Base2       Base3        Meta  Base1 Score  \\\n",
       "0   Logistic Regression  Decision Tree       Ridge  Extra Tree     0.877911   \n",
       "1   Logistic Regression  Decision Tree       Ridge   KNeighbor     0.877911   \n",
       "2   Logistic Regression  Decision Tree       Ridge     Bagging     0.877911   \n",
       "3   Logistic Regression  Decision Tree  Extra Tree   KNeighbor     0.877911   \n",
       "4   Logistic Regression  Decision Tree  Extra Tree     Bagging     0.877911   \n",
       "5   Logistic Regression  Decision Tree   KNeighbor     Bagging     0.877911   \n",
       "6   Logistic Regression          Ridge  Extra Tree   KNeighbor     0.877911   \n",
       "7   Logistic Regression          Ridge  Extra Tree     Bagging     0.877911   \n",
       "8   Logistic Regression          Ridge   KNeighbor     Bagging     0.877911   \n",
       "9   Logistic Regression     Extra Tree   KNeighbor     Bagging     0.877911   \n",
       "10        Decision Tree          Ridge  Extra Tree   KNeighbor     0.983063   \n",
       "11        Decision Tree          Ridge  Extra Tree     Bagging     0.983063   \n",
       "12        Decision Tree          Ridge   KNeighbor     Bagging     0.983063   \n",
       "13        Decision Tree     Extra Tree   KNeighbor     Bagging     0.983063   \n",
       "14                Ridge     Extra Tree   KNeighbor     Bagging     0.947717   \n",
       "\n",
       "    Base2 Score  Base3 Score  Meta Score  \n",
       "0      0.983063     0.947717    0.983063  \n",
       "1      0.983063     0.947717    0.984536  \n",
       "2      0.983063     0.947717    0.980854  \n",
       "3      0.983063     0.983800    0.983063  \n",
       "4      0.983063     0.983800    0.981591  \n",
       "5      0.983063     0.913108    0.979381  \n",
       "6      0.947717     0.983800    0.984536  \n",
       "7      0.947717     0.983800    0.981591  \n",
       "8      0.947717     0.913108    0.982327  \n",
       "9      0.983800     0.913108    0.980854  \n",
       "10     0.947717     0.983800    0.983800  \n",
       "11     0.947717     0.983800    0.983800  \n",
       "12     0.947717     0.913108    0.983063  \n",
       "13     0.983800     0.913108    0.983063  \n",
       "14     0.983800     0.913108    0.983800  "
      ]
     },
     "execution_count": 206,
     "metadata": {},
     "output_type": "execute_result"
    }
   ],
   "source": [
    "X_train = data_preped_grp.ix[data_preped_grp['YEAR']!=2011][['PR','D','F','OUTLET','L1']]\n",
    "y_train = data_preped_grp.ix[data_preped_grp['YEAR']!=2011]['L2']\n",
    "X_test = data_preped_grp.ix[data_preped_grp['YEAR']==2011][['PR','D','F','OUTLET','L1']]\n",
    "y_test = data_preped_grp.ix[data_preped_grp['YEAR']==2011]['L2']\n",
    "clf_dict={DTC: 'Decision Tree',LR:'Logistic Regression',RC: 'Ridge', ETC: 'Extra Tree', KNC:'KNeighbor', BC:'Bagging'}\n",
    "score_df = pd.DataFrame(columns=['Base1','Base2','Base3', 'Meta','Base1 Score','Base2 Score','Base3 Score', 'Meta Score'])\n",
    "\n",
    "stack_2_base_score = stack_scoring(clf_dict,score_df, 4, X_train, X_test, y_train, y_test)\n",
    "print \"Best stacked classifier with 2 sub-classifier is: \\n\", stack_2_base_score.loc[stack_2_base_score['Meta Score'].idxmax()]\n",
    "stack_2_base_score"
   ]
  },
  {
   "cell_type": "markdown",
   "metadata": {},
   "source": [
    "## Stacking for forecasting the sales (DOLLARS)"
   ]
  },
  {
   "cell_type": "code",
   "execution_count": 228,
   "metadata": {
    "collapsed": false
   },
   "outputs": [
    {
     "name": "stdout",
     "output_type": "stream",
     "text": [
      "Best stacked classifier with 2 sub-classifier is: \n",
      "Base1                   Lasso\n",
      "Base2          Bayesian Ridge\n",
      "Base3          Random Forrest\n",
      "Meta               Extra Tree\n",
      "Base1 Score          0.692909\n",
      "Base2 Score          0.692657\n",
      "Base3 Score          0.880851\n",
      "Meta Score           0.863544\n",
      "Name: 14, dtype: object\n"
     ]
    },
    {
     "data": {
      "text/html": [
       "<div>\n",
       "<table border=\"1\" class=\"dataframe\">\n",
       "  <thead>\n",
       "    <tr style=\"text-align: right;\">\n",
       "      <th></th>\n",
       "      <th>Base1</th>\n",
       "      <th>Base2</th>\n",
       "      <th>Base3</th>\n",
       "      <th>Meta</th>\n",
       "      <th>Base1 Score</th>\n",
       "      <th>Base2 Score</th>\n",
       "      <th>Base3 Score</th>\n",
       "      <th>Meta Score</th>\n",
       "    </tr>\n",
       "  </thead>\n",
       "  <tbody>\n",
       "    <tr>\n",
       "      <th>0</th>\n",
       "      <td>Decision Tree</td>\n",
       "      <td>Ridge</td>\n",
       "      <td>Lasso</td>\n",
       "      <td>Bayesian Ridge</td>\n",
       "      <td>0.750570</td>\n",
       "      <td>0.692926</td>\n",
       "      <td>0.692909</td>\n",
       "      <td>0.750570</td>\n",
       "    </tr>\n",
       "    <tr>\n",
       "      <th>1</th>\n",
       "      <td>Decision Tree</td>\n",
       "      <td>Ridge</td>\n",
       "      <td>Lasso</td>\n",
       "      <td>Random Forrest</td>\n",
       "      <td>0.750570</td>\n",
       "      <td>0.692926</td>\n",
       "      <td>0.692909</td>\n",
       "      <td>0.751602</td>\n",
       "    </tr>\n",
       "    <tr>\n",
       "      <th>2</th>\n",
       "      <td>Decision Tree</td>\n",
       "      <td>Ridge</td>\n",
       "      <td>Lasso</td>\n",
       "      <td>Extra Tree</td>\n",
       "      <td>0.750570</td>\n",
       "      <td>0.692926</td>\n",
       "      <td>0.692909</td>\n",
       "      <td>0.750624</td>\n",
       "    </tr>\n",
       "    <tr>\n",
       "      <th>3</th>\n",
       "      <td>Decision Tree</td>\n",
       "      <td>Ridge</td>\n",
       "      <td>Bayesian Ridge</td>\n",
       "      <td>Random Forrest</td>\n",
       "      <td>0.750570</td>\n",
       "      <td>0.692926</td>\n",
       "      <td>0.692657</td>\n",
       "      <td>0.751053</td>\n",
       "    </tr>\n",
       "    <tr>\n",
       "      <th>4</th>\n",
       "      <td>Decision Tree</td>\n",
       "      <td>Ridge</td>\n",
       "      <td>Bayesian Ridge</td>\n",
       "      <td>Extra Tree</td>\n",
       "      <td>0.750570</td>\n",
       "      <td>0.692926</td>\n",
       "      <td>0.692657</td>\n",
       "      <td>0.752212</td>\n",
       "    </tr>\n",
       "    <tr>\n",
       "      <th>5</th>\n",
       "      <td>Decision Tree</td>\n",
       "      <td>Ridge</td>\n",
       "      <td>Random Forrest</td>\n",
       "      <td>Extra Tree</td>\n",
       "      <td>0.750570</td>\n",
       "      <td>0.692926</td>\n",
       "      <td>0.880851</td>\n",
       "      <td>0.783937</td>\n",
       "    </tr>\n",
       "    <tr>\n",
       "      <th>6</th>\n",
       "      <td>Decision Tree</td>\n",
       "      <td>Lasso</td>\n",
       "      <td>Bayesian Ridge</td>\n",
       "      <td>Random Forrest</td>\n",
       "      <td>0.750570</td>\n",
       "      <td>0.692909</td>\n",
       "      <td>0.692657</td>\n",
       "      <td>0.751056</td>\n",
       "    </tr>\n",
       "    <tr>\n",
       "      <th>7</th>\n",
       "      <td>Decision Tree</td>\n",
       "      <td>Lasso</td>\n",
       "      <td>Bayesian Ridge</td>\n",
       "      <td>Extra Tree</td>\n",
       "      <td>0.750570</td>\n",
       "      <td>0.692909</td>\n",
       "      <td>0.692657</td>\n",
       "      <td>0.752212</td>\n",
       "    </tr>\n",
       "    <tr>\n",
       "      <th>8</th>\n",
       "      <td>Decision Tree</td>\n",
       "      <td>Lasso</td>\n",
       "      <td>Random Forrest</td>\n",
       "      <td>Extra Tree</td>\n",
       "      <td>0.750570</td>\n",
       "      <td>0.692909</td>\n",
       "      <td>0.880851</td>\n",
       "      <td>0.785596</td>\n",
       "    </tr>\n",
       "    <tr>\n",
       "      <th>9</th>\n",
       "      <td>Decision Tree</td>\n",
       "      <td>Bayesian Ridge</td>\n",
       "      <td>Random Forrest</td>\n",
       "      <td>Extra Tree</td>\n",
       "      <td>0.750570</td>\n",
       "      <td>0.692657</td>\n",
       "      <td>0.880851</td>\n",
       "      <td>0.774660</td>\n",
       "    </tr>\n",
       "    <tr>\n",
       "      <th>10</th>\n",
       "      <td>Ridge</td>\n",
       "      <td>Lasso</td>\n",
       "      <td>Bayesian Ridge</td>\n",
       "      <td>Random Forrest</td>\n",
       "      <td>0.692926</td>\n",
       "      <td>0.692909</td>\n",
       "      <td>0.692657</td>\n",
       "      <td>0.566233</td>\n",
       "    </tr>\n",
       "    <tr>\n",
       "      <th>11</th>\n",
       "      <td>Ridge</td>\n",
       "      <td>Lasso</td>\n",
       "      <td>Bayesian Ridge</td>\n",
       "      <td>Extra Tree</td>\n",
       "      <td>0.692926</td>\n",
       "      <td>0.692909</td>\n",
       "      <td>0.692657</td>\n",
       "      <td>0.328893</td>\n",
       "    </tr>\n",
       "    <tr>\n",
       "      <th>12</th>\n",
       "      <td>Ridge</td>\n",
       "      <td>Lasso</td>\n",
       "      <td>Random Forrest</td>\n",
       "      <td>Extra Tree</td>\n",
       "      <td>0.692926</td>\n",
       "      <td>0.692909</td>\n",
       "      <td>0.880851</td>\n",
       "      <td>0.858073</td>\n",
       "    </tr>\n",
       "    <tr>\n",
       "      <th>13</th>\n",
       "      <td>Ridge</td>\n",
       "      <td>Bayesian Ridge</td>\n",
       "      <td>Random Forrest</td>\n",
       "      <td>Extra Tree</td>\n",
       "      <td>0.692926</td>\n",
       "      <td>0.692657</td>\n",
       "      <td>0.880851</td>\n",
       "      <td>0.857181</td>\n",
       "    </tr>\n",
       "    <tr>\n",
       "      <th>14</th>\n",
       "      <td>Lasso</td>\n",
       "      <td>Bayesian Ridge</td>\n",
       "      <td>Random Forrest</td>\n",
       "      <td>Extra Tree</td>\n",
       "      <td>0.692909</td>\n",
       "      <td>0.692657</td>\n",
       "      <td>0.880851</td>\n",
       "      <td>0.863544</td>\n",
       "    </tr>\n",
       "  </tbody>\n",
       "</table>\n",
       "</div>"
      ],
      "text/plain": [
       "            Base1           Base2           Base3            Meta  \\\n",
       "0   Decision Tree           Ridge           Lasso  Bayesian Ridge   \n",
       "1   Decision Tree           Ridge           Lasso  Random Forrest   \n",
       "2   Decision Tree           Ridge           Lasso      Extra Tree   \n",
       "3   Decision Tree           Ridge  Bayesian Ridge  Random Forrest   \n",
       "4   Decision Tree           Ridge  Bayesian Ridge      Extra Tree   \n",
       "5   Decision Tree           Ridge  Random Forrest      Extra Tree   \n",
       "6   Decision Tree           Lasso  Bayesian Ridge  Random Forrest   \n",
       "7   Decision Tree           Lasso  Bayesian Ridge      Extra Tree   \n",
       "8   Decision Tree           Lasso  Random Forrest      Extra Tree   \n",
       "9   Decision Tree  Bayesian Ridge  Random Forrest      Extra Tree   \n",
       "10          Ridge           Lasso  Bayesian Ridge  Random Forrest   \n",
       "11          Ridge           Lasso  Bayesian Ridge      Extra Tree   \n",
       "12          Ridge           Lasso  Random Forrest      Extra Tree   \n",
       "13          Ridge  Bayesian Ridge  Random Forrest      Extra Tree   \n",
       "14          Lasso  Bayesian Ridge  Random Forrest      Extra Tree   \n",
       "\n",
       "    Base1 Score  Base2 Score  Base3 Score  Meta Score  \n",
       "0      0.750570     0.692926     0.692909    0.750570  \n",
       "1      0.750570     0.692926     0.692909    0.751602  \n",
       "2      0.750570     0.692926     0.692909    0.750624  \n",
       "3      0.750570     0.692926     0.692657    0.751053  \n",
       "4      0.750570     0.692926     0.692657    0.752212  \n",
       "5      0.750570     0.692926     0.880851    0.783937  \n",
       "6      0.750570     0.692909     0.692657    0.751056  \n",
       "7      0.750570     0.692909     0.692657    0.752212  \n",
       "8      0.750570     0.692909     0.880851    0.785596  \n",
       "9      0.750570     0.692657     0.880851    0.774660  \n",
       "10     0.692926     0.692909     0.692657    0.566233  \n",
       "11     0.692926     0.692909     0.692657    0.328893  \n",
       "12     0.692926     0.692909     0.880851    0.858073  \n",
       "13     0.692926     0.692657     0.880851    0.857181  \n",
       "14     0.692909     0.692657     0.880851    0.863544  "
      ]
     },
     "execution_count": 228,
     "metadata": {},
     "output_type": "execute_result"
    }
   ],
   "source": [
    "X_train = data_preped_grp.ix[data_preped_grp['YEAR']!=2011][['PR','D','F','OUTLET','L1']]\n",
    "y_train = data_preped_grp.ix[data_preped_grp['YEAR']!=2011]['DOLLARS']\n",
    "X_test = data_preped_grp.ix[data_preped_grp['YEAR']==2011][['PR','D','F','OUTLET','L1']]\n",
    "y_test = data_preped_grp.ix[data_preped_grp['YEAR']==2011]['DOLLARS']\n",
    "clf_dict={DTR: 'Decision Tree',RR: 'Ridge', ETR: 'Extra Tree', BRR:'Bayesian Ridge', LR:'Lasso', RFR: 'Random Forrest'}\n",
    "score_df = pd.DataFrame(columns=['Base1','Base2','Base3', 'Meta','Base1 Score','Base2 Score','Base3 Score', 'Meta Score'])\n",
    "\n",
    "stack_2_base_score = stack_scoring(clf_dict,score_df, 4, X_train, X_test, y_train, y_test)\n",
    "print \"Best stacked classifier with 2 sub-classifier is: \\n\", stack_2_base_score.loc[stack_2_base_score['Meta Score'].idxmax()]\n",
    "stack_2_base_score"
   ]
  },
  {
   "cell_type": "markdown",
   "metadata": {},
   "source": [
    "# Prescriptive Analysis (Future Work)\n",
    "In this section we tried to approach the problem from a prescriptive analysis point of view. i.e., to build a model for each specific value of each feature (several models based on the number of unique values of each features) and quantify the impact of each feature on the sales. We didn't have time to finish this part but as it can be visually verified from the table below, all features have strong impact on the outcome of the sales. So, prescriptive analysis can work really well on this data set."
   ]
  },
  {
   "cell_type": "code",
   "execution_count": 65,
   "metadata": {
    "collapsed": false
   },
   "outputs": [
    {
     "data": {
      "text/html": [
       "<div>\n",
       "<table border=\"1\" class=\"dataframe\">\n",
       "  <thead>\n",
       "    <tr style=\"text-align: right;\">\n",
       "      <th></th>\n",
       "      <th>Total Number of Promotions</th>\n",
       "      <th>Average Display Size</th>\n",
       "      <th>Ad Importance</th>\n",
       "      <th>OUTLET</th>\n",
       "      <th>Product Category</th>\n",
       "      <th>predicted sale</th>\n",
       "      <th>actual sale</th>\n",
       "    </tr>\n",
       "  </thead>\n",
       "  <tbody>\n",
       "    <tr>\n",
       "      <th>9</th>\n",
       "      <td>224</td>\n",
       "      <td>5</td>\n",
       "      <td>1122</td>\n",
       "      <td>0</td>\n",
       "      <td>0</td>\n",
       "      <td>10102.708</td>\n",
       "      <td>9244.18</td>\n",
       "    </tr>\n",
       "    <tr>\n",
       "      <th>10</th>\n",
       "      <td>380</td>\n",
       "      <td>200</td>\n",
       "      <td>1838</td>\n",
       "      <td>0</td>\n",
       "      <td>1</td>\n",
       "      <td>7160.160</td>\n",
       "      <td>8208.54</td>\n",
       "    </tr>\n",
       "    <tr>\n",
       "      <th>11</th>\n",
       "      <td>60</td>\n",
       "      <td>0</td>\n",
       "      <td>211</td>\n",
       "      <td>0</td>\n",
       "      <td>2</td>\n",
       "      <td>1175.044</td>\n",
       "      <td>983.82</td>\n",
       "    </tr>\n",
       "    <tr>\n",
       "      <th>24</th>\n",
       "      <td>322</td>\n",
       "      <td>109</td>\n",
       "      <td>1196</td>\n",
       "      <td>0</td>\n",
       "      <td>0</td>\n",
       "      <td>12564.724</td>\n",
       "      <td>14778.83</td>\n",
       "    </tr>\n",
       "    <tr>\n",
       "      <th>25</th>\n",
       "      <td>172</td>\n",
       "      <td>249</td>\n",
       "      <td>1174</td>\n",
       "      <td>0</td>\n",
       "      <td>1</td>\n",
       "      <td>4805.750</td>\n",
       "      <td>5824.10</td>\n",
       "    </tr>\n",
       "    <tr>\n",
       "      <th>26</th>\n",
       "      <td>26</td>\n",
       "      <td>0</td>\n",
       "      <td>136</td>\n",
       "      <td>0</td>\n",
       "      <td>2</td>\n",
       "      <td>970.156</td>\n",
       "      <td>1074.03</td>\n",
       "    </tr>\n",
       "    <tr>\n",
       "      <th>39</th>\n",
       "      <td>35</td>\n",
       "      <td>37</td>\n",
       "      <td>331</td>\n",
       "      <td>0</td>\n",
       "      <td>0</td>\n",
       "      <td>2569.789</td>\n",
       "      <td>3083.77</td>\n",
       "    </tr>\n",
       "    <tr>\n",
       "      <th>40</th>\n",
       "      <td>167</td>\n",
       "      <td>443</td>\n",
       "      <td>1810</td>\n",
       "      <td>0</td>\n",
       "      <td>1</td>\n",
       "      <td>12472.628</td>\n",
       "      <td>15847.39</td>\n",
       "    </tr>\n",
       "    <tr>\n",
       "      <th>41</th>\n",
       "      <td>5</td>\n",
       "      <td>0</td>\n",
       "      <td>71</td>\n",
       "      <td>0</td>\n",
       "      <td>2</td>\n",
       "      <td>531.743</td>\n",
       "      <td>564.05</td>\n",
       "    </tr>\n",
       "    <tr>\n",
       "      <th>54</th>\n",
       "      <td>322</td>\n",
       "      <td>18</td>\n",
       "      <td>1321</td>\n",
       "      <td>0</td>\n",
       "      <td>0</td>\n",
       "      <td>10671.119</td>\n",
       "      <td>12077.77</td>\n",
       "    </tr>\n",
       "  </tbody>\n",
       "</table>\n",
       "</div>"
      ],
      "text/plain": [
       "    Total Number of Promotions  Average Display Size  Ad Importance  OUTLET  \\\n",
       "9                          224                     5           1122       0   \n",
       "10                         380                   200           1838       0   \n",
       "11                          60                     0            211       0   \n",
       "24                         322                   109           1196       0   \n",
       "25                         172                   249           1174       0   \n",
       "26                          26                     0            136       0   \n",
       "39                          35                    37            331       0   \n",
       "40                         167                   443           1810       0   \n",
       "41                           5                     0             71       0   \n",
       "54                         322                    18           1321       0   \n",
       "\n",
       "    Product Category  predicted sale  actual sale  \n",
       "9                  0       10102.708      9244.18  \n",
       "10                 1        7160.160      8208.54  \n",
       "11                 2        1175.044       983.82  \n",
       "24                 0       12564.724     14778.83  \n",
       "25                 1        4805.750      5824.10  \n",
       "26                 2         970.156      1074.03  \n",
       "39                 0        2569.789      3083.77  \n",
       "40                 1       12472.628     15847.39  \n",
       "41                 2         531.743       564.05  \n",
       "54                 0       10671.119     12077.77  "
      ]
     },
     "execution_count": 65,
     "metadata": {},
     "output_type": "execute_result"
    }
   ],
   "source": [
    "sample=X_test.head(10)\n",
    "sample.ix[:,'predicted sale']=tree.predict(X_test.head(10))\n",
    "sample.ix[:,'actual sale']=y_test.iloc[:10]\n",
    "sample=sample.rename(columns={'PR':'Total Number of Promotions', 'D':'Average Display Size','F':'Ad Importance','L1':'Product Category'})\n",
    "sample"
   ]
  }
 ],
 "metadata": {
  "kernelspec": {
   "display_name": "Python 2",
   "language": "python",
   "name": "python2"
  },
  "language_info": {
   "codemirror_mode": {
    "name": "ipython",
    "version": 2
   },
   "file_extension": ".py",
   "mimetype": "text/x-python",
   "name": "python",
   "nbconvert_exporter": "python",
   "pygments_lexer": "ipython2",
   "version": "2.7.10"
  }
 },
 "nbformat": 4,
 "nbformat_minor": 0
}
