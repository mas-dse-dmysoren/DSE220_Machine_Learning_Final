{
 "cells": [
  {
   "cell_type": "markdown",
   "metadata": {},
   "source": [
    "# Assignment 1 - Q3 (Using panelist data)\n",
    "\n",
    "The IRI data is set available on the AWS instance.  Several additional documents describing the data set and pointing to additional Bibliography are made available (including the white paper: Bronnenberg, Bart J., Kruger, Michael W, and Mela, Carl F. The IRI Marketing Dataset.).  Getting to know this data set is time well spent as it will be very applicable towards the Final project.  The data set is of medium size and complexity – however understanding the data and how file/folders/datasets related to each other will be of crucial importance for creating an appropriate training data set.  \n",
    "The data set has been purchase by UCSD, it is only for internal use and comes with restrictions.  Please read and follow the NDA specified at the very end of the “IRI_database_technical_appendix” document provided with the data set.  \n",
    "I order to answer the questions below – document and describe what kind of data preparation and cleaning techniques did you have to apply?  What kinds of anomalies and missing data did you encounter?  Document how what assumption you made and how you approach the issues.\n",
    "1. What are the most popular item(s) for a chosen product/category?\n",
    "2. How does the popularity of an item change with the cost associated with it for a chosen year?\n",
    "3. How is the popularity affected over the years? "
   ]
  },
  {
   "cell_type": "markdown",
   "metadata": {},
   "source": [
    "#### Note:\n",
    "\n",
    "We have used the Salty snacks data for the years 8 to 11 for this analysis.\n",
    "\n",
    "#### Key Take away:\n",
    "\n",
    "1. Q2 has the heaviest sales\n",
    "2. Weekday afternoons and Saturdays have most sales for salty snacks"
   ]
  },
  {
   "cell_type": "code",
   "execution_count": 2,
   "metadata": {
    "collapsed": true
   },
   "outputs": [],
   "source": [
    "## Import libraries\n",
    "\n",
    "import numpy as np\n",
    "from sklearn.cross_validation import train_test_split\n",
    "\n",
    "import pandas as pd\n",
    "import matplotlib.pyplot as plt\n",
    "\n",
    "%matplotlib inline"
   ]
  },
  {
   "cell_type": "code",
   "execution_count": 3,
   "metadata": {
    "collapsed": false
   },
   "outputs": [
    {
     "name": "stdout",
     "output_type": "stream",
     "text": [
      "/Users/Deepthi/Documents/DSE/Q3_DSE220 - Machine Learning/IRI Data - Project/Data/Processed data\n"
     ]
    }
   ],
   "source": [
    "%cd /Users/Deepthi/Documents/DSE/Q3_DSE220 - Machine Learning/IRI Data - Project/Data/Processed data"
   ]
  },
  {
   "cell_type": "code",
   "execution_count": 4,
   "metadata": {
    "collapsed": true
   },
   "outputs": [],
   "source": [
    "# Get the panel data (Used old version of the data as I was focusing only on 4 stores)\n",
    "panel_demo_store_8_11 = pd.read_csv('panel_demo_store_8_11.csv',sep=',')"
   ]
  },
  {
   "cell_type": "code",
   "execution_count": 5,
   "metadata": {
    "collapsed": false
   },
   "outputs": [],
   "source": [
    "week_translation = pd.read_csv('IRI week translation_2008_2017.csv')"
   ]
  },
  {
   "cell_type": "code",
   "execution_count": 6,
   "metadata": {
    "collapsed": false
   },
   "outputs": [],
   "source": [
    "combined_with_year = pd.merge(panel_demo_store_8_11,week_translation, how='left',on='week' )"
   ]
  },
  {
   "cell_type": "markdown",
   "metadata": {},
   "source": [
    "### Most popular product category"
   ]
  },
  {
   "cell_type": "code",
   "execution_count": 7,
   "metadata": {
    "collapsed": false
   },
   "outputs": [
    {
     "data": {
      "text/html": [
       "<div>\n",
       "<table border=\"1\" class=\"dataframe\">\n",
       "  <thead>\n",
       "    <tr style=\"text-align: right;\">\n",
       "      <th></th>\n",
       "      <th>year</th>\n",
       "      <th>l2</th>\n",
       "      <th>units</th>\n",
       "      <th>dollars</th>\n",
       "      <th>rnk</th>\n",
       "    </tr>\n",
       "  </thead>\n",
       "  <tbody>\n",
       "    <tr>\n",
       "      <th>4</th>\n",
       "      <td>8</td>\n",
       "      <td>POTATO CHIPS</td>\n",
       "      <td>3937</td>\n",
       "      <td>8083.92</td>\n",
       "      <td>1</td>\n",
       "    </tr>\n",
       "    <tr>\n",
       "      <th>7</th>\n",
       "      <td>8</td>\n",
       "      <td>TORTILLA/TOSTADA CHIPS</td>\n",
       "      <td>2723</td>\n",
       "      <td>6897.83</td>\n",
       "      <td>2</td>\n",
       "    </tr>\n",
       "    <tr>\n",
       "      <th>12</th>\n",
       "      <td>9</td>\n",
       "      <td>POTATO CHIPS</td>\n",
       "      <td>4038</td>\n",
       "      <td>9842.22</td>\n",
       "      <td>1</td>\n",
       "    </tr>\n",
       "    <tr>\n",
       "      <th>15</th>\n",
       "      <td>9</td>\n",
       "      <td>TORTILLA/TOSTADA CHIPS</td>\n",
       "      <td>2656</td>\n",
       "      <td>6563.61</td>\n",
       "      <td>2</td>\n",
       "    </tr>\n",
       "    <tr>\n",
       "      <th>20</th>\n",
       "      <td>10</td>\n",
       "      <td>POTATO CHIPS</td>\n",
       "      <td>4357</td>\n",
       "      <td>9857.02</td>\n",
       "      <td>1</td>\n",
       "    </tr>\n",
       "    <tr>\n",
       "      <th>23</th>\n",
       "      <td>10</td>\n",
       "      <td>TORTILLA/TOSTADA CHIPS</td>\n",
       "      <td>2365</td>\n",
       "      <td>5951.09</td>\n",
       "      <td>2</td>\n",
       "    </tr>\n",
       "    <tr>\n",
       "      <th>28</th>\n",
       "      <td>11</td>\n",
       "      <td>POTATO CHIPS</td>\n",
       "      <td>4169</td>\n",
       "      <td>10187.12</td>\n",
       "      <td>1</td>\n",
       "    </tr>\n",
       "    <tr>\n",
       "      <th>31</th>\n",
       "      <td>11</td>\n",
       "      <td>TORTILLA/TOSTADA CHIPS</td>\n",
       "      <td>2406</td>\n",
       "      <td>6061.48</td>\n",
       "      <td>2</td>\n",
       "    </tr>\n",
       "  </tbody>\n",
       "</table>\n",
       "</div>"
      ],
      "text/plain": [
       "    year                      l2  units   dollars  rnk\n",
       "4      8            POTATO CHIPS   3937   8083.92    1\n",
       "7      8  TORTILLA/TOSTADA CHIPS   2723   6897.83    2\n",
       "12     9            POTATO CHIPS   4038   9842.22    1\n",
       "15     9  TORTILLA/TOSTADA CHIPS   2656   6563.61    2\n",
       "20    10            POTATO CHIPS   4357   9857.02    1\n",
       "23    10  TORTILLA/TOSTADA CHIPS   2365   5951.09    2\n",
       "28    11            POTATO CHIPS   4169  10187.12    1\n",
       "31    11  TORTILLA/TOSTADA CHIPS   2406   6061.48    2"
      ]
     },
     "execution_count": 7,
     "metadata": {},
     "output_type": "execute_result"
    }
   ],
   "source": [
    "## Popular product category\n",
    "combined_with_year2 = (combined_with_year[['year','l2','units','dollars']].groupby(['year','l2']).sum().reset_index()).sort(['year','units'],ascending =[True,False]).copy()\n",
    "combined_with_year2['rnk'] = combined_with_year2.groupby(['year']).units.rank(ascending=False)\n",
    "combined_with_year2[combined_with_year2['rnk'].isin([1,2])]"
   ]
  },
  {
   "cell_type": "markdown",
   "metadata": {},
   "source": [
    "### By outlet and by product category"
   ]
  },
  {
   "cell_type": "code",
   "execution_count": 8,
   "metadata": {
    "collapsed": false,
    "scrolled": true
   },
   "outputs": [
    {
     "data": {
      "text/html": [
       "<div>\n",
       "<table border=\"1\" class=\"dataframe\">\n",
       "  <thead>\n",
       "    <tr style=\"text-align: right;\">\n",
       "      <th></th>\n",
       "      <th>year</th>\n",
       "      <th>outlet</th>\n",
       "      <th>l2</th>\n",
       "      <th>units</th>\n",
       "      <th>dollars</th>\n",
       "      <th>rnk</th>\n",
       "    </tr>\n",
       "  </thead>\n",
       "  <tbody>\n",
       "    <tr>\n",
       "      <th>12</th>\n",
       "      <td>8</td>\n",
       "      <td>GK</td>\n",
       "      <td>POTATO CHIPS</td>\n",
       "      <td>3497</td>\n",
       "      <td>7545.65</td>\n",
       "      <td>1</td>\n",
       "    </tr>\n",
       "    <tr>\n",
       "      <th>4</th>\n",
       "      <td>8</td>\n",
       "      <td>DK</td>\n",
       "      <td>POTATO CHIPS</td>\n",
       "      <td>440</td>\n",
       "      <td>538.27</td>\n",
       "      <td>1</td>\n",
       "    </tr>\n",
       "    <tr>\n",
       "      <th>27</th>\n",
       "      <td>9</td>\n",
       "      <td>GK</td>\n",
       "      <td>POTATO CHIPS</td>\n",
       "      <td>3908</td>\n",
       "      <td>9644.73</td>\n",
       "      <td>1</td>\n",
       "    </tr>\n",
       "    <tr>\n",
       "      <th>19</th>\n",
       "      <td>9</td>\n",
       "      <td>DK</td>\n",
       "      <td>POTATO CHIPS</td>\n",
       "      <td>130</td>\n",
       "      <td>197.49</td>\n",
       "      <td>1</td>\n",
       "    </tr>\n",
       "    <tr>\n",
       "      <th>42</th>\n",
       "      <td>10</td>\n",
       "      <td>GK</td>\n",
       "      <td>POTATO CHIPS</td>\n",
       "      <td>4247</td>\n",
       "      <td>9670.03</td>\n",
       "      <td>1</td>\n",
       "    </tr>\n",
       "    <tr>\n",
       "      <th>34</th>\n",
       "      <td>10</td>\n",
       "      <td>DK</td>\n",
       "      <td>POTATO CHIPS</td>\n",
       "      <td>110</td>\n",
       "      <td>186.99</td>\n",
       "      <td>1</td>\n",
       "    </tr>\n",
       "    <tr>\n",
       "      <th>57</th>\n",
       "      <td>11</td>\n",
       "      <td>GK</td>\n",
       "      <td>POTATO CHIPS</td>\n",
       "      <td>3965</td>\n",
       "      <td>9854.56</td>\n",
       "      <td>1</td>\n",
       "    </tr>\n",
       "    <tr>\n",
       "      <th>49</th>\n",
       "      <td>11</td>\n",
       "      <td>DK</td>\n",
       "      <td>POTATO CHIPS</td>\n",
       "      <td>204</td>\n",
       "      <td>332.56</td>\n",
       "      <td>1</td>\n",
       "    </tr>\n",
       "  </tbody>\n",
       "</table>\n",
       "</div>"
      ],
      "text/plain": [
       "    year outlet            l2  units  dollars  rnk\n",
       "12     8     GK  POTATO CHIPS   3497  7545.65    1\n",
       "4      8     DK  POTATO CHIPS    440   538.27    1\n",
       "27     9     GK  POTATO CHIPS   3908  9644.73    1\n",
       "19     9     DK  POTATO CHIPS    130   197.49    1\n",
       "42    10     GK  POTATO CHIPS   4247  9670.03    1\n",
       "34    10     DK  POTATO CHIPS    110   186.99    1\n",
       "57    11     GK  POTATO CHIPS   3965  9854.56    1\n",
       "49    11     DK  POTATO CHIPS    204   332.56    1"
      ]
     },
     "execution_count": 8,
     "metadata": {},
     "output_type": "execute_result"
    }
   ],
   "source": [
    "## By outlet type and product category\n",
    "combined_with_year2 = (combined_with_year[['year','outlet','l2','units','dollars']].groupby(['year','outlet','l2']).sum().reset_index()).sort(['year','units'],ascending =[True,False]).copy()\n",
    "combined_with_year2['rnk'] = combined_with_year2.groupby(['year','outlet']).units.rank(ascending=False)\n",
    "combined_with_year2[combined_with_year2['rnk'].isin([1])]"
   ]
  },
  {
   "cell_type": "markdown",
   "metadata": {},
   "source": [
    "### By quarter"
   ]
  },
  {
   "cell_type": "code",
   "execution_count": 9,
   "metadata": {
    "collapsed": false
   },
   "outputs": [
    {
     "data": {
      "image/png": "[encoded data removed]",
      "text/plain": [
       "<matplotlib.figure.Figure at 0x10f416490>"
      ]
     },
     "metadata": {},
     "output_type": "display_data"
    }
   ],
   "source": [
    "combined_with_year.groupby(['quarter']).dollars.sum().plot(kind = 'bar',color='grey')\n",
    "plt.ylabel('Dollars $')\n",
    "plt.xlabel('Quarter')\n",
    "plt.show()"
   ]
  },
  {
   "cell_type": "code",
   "execution_count": 10,
   "metadata": {
    "collapsed": false
   },
   "outputs": [
    {
     "data": {
      "text/plain": [
       "quarter\n",
       "Q1    23398.11\n",
       "Q2    26633.58\n",
       "Q3    25041.21\n",
       "Q4    23281.38\n",
       "Name: dollars, dtype: float64"
      ]
     },
     "execution_count": 10,
     "metadata": {},
     "output_type": "execute_result"
    }
   ],
   "source": [
    "combined_with_year.groupby(['quarter']).dollars.sum()"
   ]
  },
  {
   "cell_type": "markdown",
   "metadata": {},
   "source": [
    "### 'Time of the day' and 'Day of the week'"
   ]
  },
  {
   "cell_type": "code",
   "execution_count": 11,
   "metadata": {
    "collapsed": false
   },
   "outputs": [],
   "source": [
    "## Add hour flag\n",
    "\n",
    "mon = pd.DataFrame(zip(range(0,1440),['01_Monday']*1440,range(0,1440)))\n",
    "tue = pd.DataFrame(zip(range(1440,1440*2),['02_Tuesday']*1440,range(0,1440)))\n",
    "wed = pd.DataFrame(zip(range(1440*2,1440*3),['03_Wednesday']*1440,range(0,1440)))\n",
    "thu = pd.DataFrame(zip(range(1440*3,1440*4),['04_Thursday']*1440,range(0,1440)))\n",
    "fri = pd.DataFrame(zip(range(1440*4,1440*5),['05_Friday']*1440,range(0,1440)))\n",
    "sat = pd.DataFrame(zip(range(1440*5,1440*6),['06_Saturay']*1440,range(0,1440)))\n",
    "sun = pd.DataFrame(zip(range(1440*6,1440*7),['07_Sunday']*1440,range(0,1440)))\n",
    "\n",
    "frames = [mon,tue,wed,thu,fri,sat,sun]\n",
    "\n",
    "final_week_days = pd.concat(frames)\n",
    "\n",
    "## Create hour flag\n",
    "\n",
    "final_week_days.columns = ['minute','day_of_the_week','minute_by_day']\n",
    "final_week_days['hour'] = (final_week_days['minute_by_day']/60).round()\n",
    "temp = combined_with_year.copy()\n",
    "# temp2 = pd.merge(temp,week_transaltion,on='week')\n",
    "temp2=temp.copy()\n",
    "\n",
    "final_week_days['minute_by_day_new']=final_week_days['minute_by_day']+1\n",
    "\n",
    "final_week_days['hour2'] = (final_week_days['minute_by_day_new']/60).round(2)\n",
    "\n",
    "def func4(row):\n",
    "    if row['hour2']>row['hour']:\n",
    "        return row['hour']+1\n",
    "    else:\n",
    "        return row['hour']\n",
    "        \n",
    "final_week_days['hour_final'] = final_week_days.apply(func4,axis=1) \n",
    "\n",
    "\n",
    "def func(row):\n",
    "    if row['hour_final'] in ([1,2,3,4,5,6,7,8,9]):\n",
    "        return '01_before_office_hours'\n",
    "    elif row['hour_final'] in ([10,11,12,13,14,15,16,17]):\n",
    "        return '02_during_office_hours'\n",
    "    elif row['hour_final'] in ([18,19,20,21,22,23,24]):\n",
    "        return '03_after_office_hours'\n",
    "\n",
    "final_week_days['time_of_the_day'] = final_week_days.apply(func,axis=1) \n",
    "\n",
    "\n",
    "\n",
    "def func2(row):\n",
    "    if row['hour_final'] in ([1,2,3,4,5,6,7,8,9]):\n",
    "        return '01_before_9'\n",
    "    elif row['hour_final'] in ([10,11,12]):\n",
    "        return '02_between_10_and_noon'\n",
    "    elif row['hour_final'] in ([13,14,15,16]):\n",
    "        return '03_afternoon'\n",
    "    elif row['hour_final'] in ([17,18,19,20]):\n",
    "        return '04_evening'\n",
    "    elif row['hour_final'] in ([21,22,23,24]):\n",
    "        return '05_night'\n",
    "\n",
    "final_week_days['time_of_the_day2'] = final_week_days.apply(func2,axis=1) \n",
    "\n",
    "\n",
    "def func3(row):\n",
    "    if row['day_of_the_week'] in (['01_Monday','02_Tuesday','03_Wednesday','04_Thursday','05_Friday']):\n",
    "        return 'weekday'\n",
    "    else:\n",
    "        return 'weekend'\n",
    "\n",
    "final_week_days['weekday_weekend'] = final_week_days.apply(func3,axis=1) \n",
    "\n",
    "\n",
    "final_week_days[['minute','day_of_the_week','minute_by_day','hour_final','time_of_the_day','time_of_the_day2','weekday_weekend']].to_csv('minute_mapping.csv')\n",
    "\n",
    "final_week_days = final_week_days[['minute','day_of_the_week','minute_by_day','hour_final','time_of_the_day','time_of_the_day2','weekday_weekend']]\n",
    "\n",
    "final_week_days.columns = ['minute','day_of_the_week','minute_by_day','hour','time_of_the_day','time_of_the_day2','weekday_weekend']\n",
    "\n",
    "with_week_day = pd.merge(temp2,final_week_days, on = 'minute')\n"
   ]
  },
  {
   "cell_type": "code",
   "execution_count": 12,
   "metadata": {
    "collapsed": false
   },
   "outputs": [],
   "source": [
    "# with_week_day['weekday_weekend']"
   ]
  },
  {
   "cell_type": "code",
   "execution_count": 13,
   "metadata": {
    "collapsed": false
   },
   "outputs": [
    {
     "data": {
      "image/png": "[encoded data removed]",
      "text/plain": [
       "<matplotlib.figure.Figure at 0x10d5e4450>"
      ]
     },
     "metadata": {},
     "output_type": "display_data"
    }
   ],
   "source": [
    "with_week_day.groupby(['day_of_the_week']).dollars.sum().plot(kind = 'bar')\n",
    "plt.show()"
   ]
  },
  {
   "cell_type": "code",
   "execution_count": 14,
   "metadata": {
    "collapsed": false
   },
   "outputs": [
    {
     "data": {
      "image/png": "[encoded data removed]",
      "text/plain": [
       "<matplotlib.figure.Figure at 0x10616e910>"
      ]
     },
     "metadata": {},
     "output_type": "display_data"
    }
   ],
   "source": [
    "temp2 = with_week_day['day_of_the_week'].copy()\n",
    "\n",
    "temp3 = pd.DataFrame(temp2.value_counts()).reset_index()\n",
    "temp3.columns = ['day_of_the_week','count']\n",
    "temp3.sort('day_of_the_week',inplace = True)\n",
    "\n",
    "temp3.plot(kind='bar',x='day_of_the_week',color='grey')\n",
    "plt.show()"
   ]
  },
  {
   "cell_type": "code",
   "execution_count": 15,
   "metadata": {
    "collapsed": true
   },
   "outputs": [],
   "source": [
    "temp3 = pd.DataFrame(temp2.value_counts())"
   ]
  },
  {
   "cell_type": "code",
   "execution_count": 16,
   "metadata": {
    "collapsed": false
   },
   "outputs": [
    {
     "data": {
      "text/html": [
       "<div>\n",
       "<table border=\"1\" class=\"dataframe\">\n",
       "  <thead>\n",
       "    <tr style=\"text-align: right;\">\n",
       "      <th></th>\n",
       "      <th>0</th>\n",
       "    </tr>\n",
       "  </thead>\n",
       "  <tbody>\n",
       "    <tr>\n",
       "      <th>06_Saturay</th>\n",
       "      <td>7368</td>\n",
       "    </tr>\n",
       "    <tr>\n",
       "      <th>07_Sunday</th>\n",
       "      <td>5880</td>\n",
       "    </tr>\n",
       "    <tr>\n",
       "      <th>05_Friday</th>\n",
       "      <td>5879</td>\n",
       "    </tr>\n",
       "    <tr>\n",
       "      <th>01_Monday</th>\n",
       "      <td>5164</td>\n",
       "    </tr>\n",
       "    <tr>\n",
       "      <th>04_Thursday</th>\n",
       "      <td>4766</td>\n",
       "    </tr>\n",
       "    <tr>\n",
       "      <th>03_Wednesday</th>\n",
       "      <td>4460</td>\n",
       "    </tr>\n",
       "    <tr>\n",
       "      <th>02_Tuesday</th>\n",
       "      <td>4238</td>\n",
       "    </tr>\n",
       "  </tbody>\n",
       "</table>\n",
       "</div>"
      ],
      "text/plain": [
       "                 0\n",
       "06_Saturay    7368\n",
       "07_Sunday     5880\n",
       "05_Friday     5879\n",
       "01_Monday     5164\n",
       "04_Thursday   4766\n",
       "03_Wednesday  4460\n",
       "02_Tuesday    4238"
      ]
     },
     "execution_count": 16,
     "metadata": {},
     "output_type": "execute_result"
    }
   ],
   "source": [
    "temp3"
   ]
  },
  {
   "cell_type": "code",
   "execution_count": 17,
   "metadata": {
    "collapsed": false,
    "scrolled": true
   },
   "outputs": [
    {
     "data": {
      "image/png": "[encoded data removed]",
      "text/plain": [
       "<matplotlib.figure.Figure at 0x112e4e1d0>"
      ]
     },
     "metadata": {},
     "output_type": "display_data"
    }
   ],
   "source": [
    "with_week_day.groupby(['hour']).dollars.sum().plot(kind = 'bar',color='grey')\n",
    "plt.show()"
   ]
  },
  {
   "cell_type": "code",
   "execution_count": 18,
   "metadata": {
    "collapsed": false
   },
   "outputs": [
    {
     "data": {
      "text/plain": [
       "<matplotlib.axes._subplots.AxesSubplot at 0x112a9e4d0>"
      ]
     },
     "execution_count": 18,
     "metadata": {},
     "output_type": "execute_result"
    },
    {
     "data": {
      "image/png": "[encoded data removed]",
      "text/plain": [
       "<matplotlib.figure.Figure at 0x112a74710>"
      ]
     },
     "metadata": {},
     "output_type": "display_data"
    }
   ],
   "source": [
    "with_week_day['hour'].hist()"
   ]
  },
  {
   "cell_type": "code",
   "execution_count": 19,
   "metadata": {
    "collapsed": false
   },
   "outputs": [
    {
     "data": {
      "image/png": "[encoded data removed]",
      "text/plain": [
       "<matplotlib.figure.Figure at 0x1130462d0>"
      ]
     },
     "metadata": {},
     "output_type": "display_data"
    }
   ],
   "source": [
    "with_week_day.groupby(['time_of_the_day']).dollars.sum().plot(kind = 'bar')\n",
    "plt.show()"
   ]
  },
  {
   "cell_type": "code",
   "execution_count": 20,
   "metadata": {
    "collapsed": false
   },
   "outputs": [
    {
     "data": {
      "image/png": "[encoded data removed]",
      "text/plain": [
       "<matplotlib.figure.Figure at 0x1132cc310>"
      ]
     },
     "metadata": {},
     "output_type": "display_data"
    }
   ],
   "source": [
    "with_week_day.groupby(['time_of_the_day2']).dollars.sum().plot(kind = 'bar',color='grey')\n",
    "plt.show()"
   ]
  },
  {
   "cell_type": "code",
   "execution_count": 21,
   "metadata": {
    "collapsed": false
   },
   "outputs": [
    {
     "data": {
      "image/png": "[encoded data removed]",
      "text/plain": [
       "<matplotlib.figure.Figure at 0x115818810>"
      ]
     },
     "metadata": {},
     "output_type": "display_data"
    }
   ],
   "source": [
    "temp2 = with_week_day['time_of_the_day2'].copy()\n",
    "\n",
    "temp3 = pd.DataFrame(temp2.value_counts()).reset_index()\n",
    "temp3.columns = ['time_of_the_day2','count']\n",
    "temp3.sort('time_of_the_day2',inplace = True)\n",
    "\n",
    "temp3.plot(kind='bar',x='time_of_the_day2',color='grey')\n",
    "plt.show()"
   ]
  },
  {
   "cell_type": "code",
   "execution_count": 22,
   "metadata": {
    "collapsed": false
   },
   "outputs": [],
   "source": [
    "with_week_day['combined_day_time'] = with_week_day['weekday_weekend']+'_'+with_week_day['time_of_the_day2']"
   ]
  },
  {
   "cell_type": "code",
   "execution_count": 23,
   "metadata": {
    "collapsed": false
   },
   "outputs": [
    {
     "data": {
      "image/png": "[encoded data removed]",
      "text/plain": [
       "<matplotlib.figure.Figure at 0x11abee850>"
      ]
     },
     "metadata": {},
     "output_type": "display_data"
    }
   ],
   "source": [
    "temp2 = with_week_day['combined_day_time'].copy()\n",
    "\n",
    "temp3 = pd.DataFrame(temp2.value_counts()).reset_index()\n",
    "temp3.columns = ['combined_day_time','count']\n",
    "temp3.sort('combined_day_time',inplace = True)\n",
    "\n",
    "temp3.plot(kind='bar',x=['combined_day_time'],color='grey')\n",
    "plt.show()"
   ]
  },
  {
   "cell_type": "code",
   "execution_count": 24,
   "metadata": {
    "collapsed": true
   },
   "outputs": [],
   "source": [
    "temp3 = pd.DataFrame(temp2.value_counts())"
   ]
  },
  {
   "cell_type": "code",
   "execution_count": 25,
   "metadata": {
    "collapsed": false
   },
   "outputs": [
    {
     "data": {
      "text/html": [
       "<div>\n",
       "<table border=\"1\" class=\"dataframe\">\n",
       "  <thead>\n",
       "    <tr style=\"text-align: right;\">\n",
       "      <th></th>\n",
       "      <th>0</th>\n",
       "    </tr>\n",
       "  </thead>\n",
       "  <tbody>\n",
       "    <tr>\n",
       "      <th>weekday_03_afternoon</th>\n",
       "      <td>8663</td>\n",
       "    </tr>\n",
       "    <tr>\n",
       "      <th>weekday_04_evening</th>\n",
       "      <td>8291</td>\n",
       "    </tr>\n",
       "    <tr>\n",
       "      <th>weekend_03_afternoon</th>\n",
       "      <td>5119</td>\n",
       "    </tr>\n",
       "    <tr>\n",
       "      <th>weekday_02_between_10_and_noon</th>\n",
       "      <td>4688</td>\n",
       "    </tr>\n",
       "    <tr>\n",
       "      <th>weekend_02_between_10_and_noon</th>\n",
       "      <td>3832</td>\n",
       "    </tr>\n",
       "    <tr>\n",
       "      <th>weekend_04_evening</th>\n",
       "      <td>3248</td>\n",
       "    </tr>\n",
       "    <tr>\n",
       "      <th>weekday_05_night</th>\n",
       "      <td>1660</td>\n",
       "    </tr>\n",
       "    <tr>\n",
       "      <th>weekday_01_before_9</th>\n",
       "      <td>1205</td>\n",
       "    </tr>\n",
       "    <tr>\n",
       "      <th>weekend_05_night</th>\n",
       "      <td>550</td>\n",
       "    </tr>\n",
       "    <tr>\n",
       "      <th>weekend_01_before_9</th>\n",
       "      <td>499</td>\n",
       "    </tr>\n",
       "  </tbody>\n",
       "</table>\n",
       "</div>"
      ],
      "text/plain": [
       "                                   0\n",
       "weekday_03_afternoon            8663\n",
       "weekday_04_evening              8291\n",
       "weekend_03_afternoon            5119\n",
       "weekday_02_between_10_and_noon  4688\n",
       "weekend_02_between_10_and_noon  3832\n",
       "weekend_04_evening              3248\n",
       "weekday_05_night                1660\n",
       "weekday_01_before_9             1205\n",
       "weekend_05_night                 550\n",
       "weekend_01_before_9              499"
      ]
     },
     "execution_count": 25,
     "metadata": {},
     "output_type": "execute_result"
    }
   ],
   "source": [
    "temp3"
   ]
  },
  {
   "cell_type": "markdown",
   "metadata": {
    "collapsed": true
   },
   "source": [
    "### KNN \n",
    "\n",
    "Apply K-nearest neighbor algorithms to a chose subset of data for a specific set of products/categories."
   ]
  },
  {
   "cell_type": "code",
   "execution_count": 26,
   "metadata": {
    "collapsed": true
   },
   "outputs": [],
   "source": [
    "with_week_day = with_week_day.fillna(0)"
   ]
  },
  {
   "cell_type": "code",
   "execution_count": 58,
   "metadata": {
    "collapsed": false
   },
   "outputs": [
    {
     "name": "stdout",
     "output_type": "stream",
     "text": [
      "0.385541282244\n"
     ]
    }
   ],
   "source": [
    "from sklearn.cross_validation import train_test_split\n",
    "from sklearn import neighbors\n",
    "\n",
    "X = with_week_day[['age_group_applied_to_female_hh','age_group_applied_to_male_hh',\n",
    "                  'education_level_reached_by_female_hh',\n",
    "                  'education_level_reached_by_male_hh','occupation_code_of_male_hh',\n",
    "                  'occupation_code_of_female_hh','est_acv','events','colupc'\n",
    "                  ]]\n",
    "y = with_week_day['units']\n",
    "\n",
    "X_train, X_test, y_train, y_test = train_test_split(X, y, test_size=0.20,random_state = 4)\n",
    "\n",
    "n_neighbors = 3\n",
    "\n",
    "knn = neighbors.KNeighborsRegressor(n_neighbors).fit(X_train, y_train)\n",
    "\n",
    "from sklearn.metrics import mean_squared_error\n",
    "mse = mean_squared_error(y_test, knn.predict(X_test))\n",
    "print mse"
   ]
  }
 ],
 "metadata": {
  "kernelspec": {
   "display_name": "Python 2",
   "language": "python",
   "name": "python2"
  },
  "language_info": {
   "codemirror_mode": {
    "name": "ipython",
    "version": 2
   },
   "file_extension": ".py",
   "mimetype": "text/x-python",
   "name": "python",
   "nbconvert_exporter": "python",
   "pygments_lexer": "ipython2",
   "version": "2.7.11"
  }
 },
 "nbformat": 4,
 "nbformat_minor": 0
}
